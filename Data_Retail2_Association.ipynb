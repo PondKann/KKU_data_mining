{
  "nbformat": 4,
  "nbformat_minor": 0,
  "metadata": {
    "colab": {
      "name": "Data_Retail2_Association.ipynb",
      "provenance": [],
      "include_colab_link": true
    },
    "kernelspec": {
      "name": "python3",
      "display_name": "Python 3"
    }
  },
  "cells": [
    {
      "cell_type": "markdown",
      "metadata": {
        "id": "view-in-github",
        "colab_type": "text"
      },
      "source": [
        "<a href=\"https://colab.research.google.com/github/PondKann/KKU_data_mining/blob/master/Data_Retail2_Association.ipynb\" target=\"_parent\"><img src=\"https://colab.research.google.com/assets/colab-badge.svg\" alt=\"Open In Colab\"/></a>"
      ]
    },
    {
      "cell_type": "markdown",
      "metadata": {
        "id": "zmocM_BkND4F"
      },
      "source": [
        "# Association All Country"
      ]
    },
    {
      "cell_type": "code",
      "metadata": {
        "id": "8dfgLyP1Knje"
      },
      "source": [
        "import pandas as pd\n",
        "import os \n",
        "from mlxtend.frequent_patterns import apriori\n",
        "from mlxtend.frequent_patterns import association_rules\n",
        "from google.colab import drive"
      ],
      "execution_count": 1,
      "outputs": []
    },
    {
      "cell_type": "code",
      "metadata": {
        "colab": {
          "base_uri": "https://localhost:8080/"
        },
        "id": "rKd0Z0ZVLGLS",
        "outputId": "1f0e07da-70d2-4889-b889-dbf55c3b7de8"
      },
      "source": [
        "from google.colab import drive\n",
        "drive.mount('/content/drive')"
      ],
      "execution_count": 2,
      "outputs": [
        {
          "output_type": "stream",
          "text": [
            "Drive already mounted at /content/drive; to attempt to forcibly remount, call drive.mount(\"/content/drive\", force_remount=True).\n"
          ],
          "name": "stdout"
        }
      ]
    },
    {
      "cell_type": "code",
      "metadata": {
        "id": "h4L0TVEiLOdw",
        "colab": {
          "base_uri": "https://localhost:8080/"
        },
        "outputId": "69433e7d-f503-4254-eab7-53ae0550451e"
      },
      "source": [
        "path = '/content/drive/My Drive/DataViz_2021'\n",
        "os.listdir(path)"
      ],
      "execution_count": 3,
      "outputs": [
        {
          "output_type": "execute_result",
          "data": {
            "text/plain": [
              "['pm-18-jan-2021.csv',\n",
              " 'covid-19-daily_data_dictionary.xlsx',\n",
              " 'income.csv',\n",
              " 'income2.xls',\n",
              " 'จัดซื้อ 57-58.xls',\n",
              " 'online_retail_II.xlsx',\n",
              " 'online_retail_II.csv']"
            ]
          },
          "metadata": {
            "tags": []
          },
          "execution_count": 3
        }
      ]
    },
    {
      "cell_type": "markdown",
      "metadata": {
        "id": "vt0ysVyhtyYG"
      },
      "source": [
        "1. นำเข้าข้อมูล และ Package ที่ต้องการ"
      ]
    },
    {
      "cell_type": "code",
      "metadata": {
        "id": "5NsY2cM3tNCO"
      },
      "source": [
        "data_path = os.path.join(path,'online_retail_II.csv')\n",
        "datacsv = pd.read_csv(os.path.join(path,'online_retail_II.csv'),encoding='utf-8')\n",
        "df = datacsv"
      ],
      "execution_count": 4,
      "outputs": []
    },
    {
      "cell_type": "code",
      "metadata": {
        "id": "BLlSwq82tYg9",
        "colab": {
          "base_uri": "https://localhost:8080/"
        },
        "outputId": "f2f3a3f7-675c-46f0-e17d-78a1f4f1e152"
      },
      "source": [
        "df.info()"
      ],
      "execution_count": 7,
      "outputs": [
        {
          "output_type": "stream",
          "text": [
            "<class 'pandas.core.frame.DataFrame'>\n",
            "RangeIndex: 541910 entries, 0 to 541909\n",
            "Data columns (total 8 columns):\n",
            " #   Column       Non-Null Count   Dtype  \n",
            "---  ------       --------------   -----  \n",
            " 0   Invoice      541910 non-null  object \n",
            " 1   StockCode    541910 non-null  object \n",
            " 2   Description  540456 non-null  object \n",
            " 3   Quantity     541910 non-null  int64  \n",
            " 4   InvoiceDate  541910 non-null  object \n",
            " 5   Price        541910 non-null  float64\n",
            " 6   Customer ID  406830 non-null  float64\n",
            " 7   Country      541910 non-null  object \n",
            "dtypes: float64(2), int64(1), object(5)\n",
            "memory usage: 33.1+ MB\n"
          ],
          "name": "stdout"
        }
      ]
    },
    {
      "cell_type": "code",
      "metadata": {
        "id": "nNRKBEvTtRAa",
        "colab": {
          "base_uri": "https://localhost:8080/",
          "height": 404
        },
        "outputId": "4ec74d78-3e63-4cf8-b084-697bd5f553f8"
      },
      "source": [
        "df"
      ],
      "execution_count": 8,
      "outputs": [
        {
          "output_type": "execute_result",
          "data": {
            "text/html": [
              "<div>\n",
              "<style scoped>\n",
              "    .dataframe tbody tr th:only-of-type {\n",
              "        vertical-align: middle;\n",
              "    }\n",
              "\n",
              "    .dataframe tbody tr th {\n",
              "        vertical-align: top;\n",
              "    }\n",
              "\n",
              "    .dataframe thead th {\n",
              "        text-align: right;\n",
              "    }\n",
              "</style>\n",
              "<table border=\"1\" class=\"dataframe\">\n",
              "  <thead>\n",
              "    <tr style=\"text-align: right;\">\n",
              "      <th></th>\n",
              "      <th>Invoice</th>\n",
              "      <th>StockCode</th>\n",
              "      <th>Description</th>\n",
              "      <th>Quantity</th>\n",
              "      <th>InvoiceDate</th>\n",
              "      <th>Price</th>\n",
              "      <th>Customer ID</th>\n",
              "      <th>Country</th>\n",
              "    </tr>\n",
              "  </thead>\n",
              "  <tbody>\n",
              "    <tr>\n",
              "      <th>0</th>\n",
              "      <td>536365</td>\n",
              "      <td>85123A</td>\n",
              "      <td>WHITE HANGING HEART T-LIGHT HOLDER</td>\n",
              "      <td>6</td>\n",
              "      <td>12/1/2010 8:26</td>\n",
              "      <td>2.55</td>\n",
              "      <td>17850.0</td>\n",
              "      <td>United Kingdom</td>\n",
              "    </tr>\n",
              "    <tr>\n",
              "      <th>1</th>\n",
              "      <td>536365</td>\n",
              "      <td>71053</td>\n",
              "      <td>WHITE METAL LANTERN</td>\n",
              "      <td>6</td>\n",
              "      <td>12/1/2010 8:26</td>\n",
              "      <td>3.39</td>\n",
              "      <td>17850.0</td>\n",
              "      <td>United Kingdom</td>\n",
              "    </tr>\n",
              "    <tr>\n",
              "      <th>2</th>\n",
              "      <td>536365</td>\n",
              "      <td>84406B</td>\n",
              "      <td>CREAM CUPID HEARTS COAT HANGER</td>\n",
              "      <td>8</td>\n",
              "      <td>12/1/2010 8:26</td>\n",
              "      <td>2.75</td>\n",
              "      <td>17850.0</td>\n",
              "      <td>United Kingdom</td>\n",
              "    </tr>\n",
              "    <tr>\n",
              "      <th>3</th>\n",
              "      <td>536365</td>\n",
              "      <td>84029G</td>\n",
              "      <td>KNITTED UNION FLAG HOT WATER BOTTLE</td>\n",
              "      <td>6</td>\n",
              "      <td>12/1/2010 8:26</td>\n",
              "      <td>3.39</td>\n",
              "      <td>17850.0</td>\n",
              "      <td>United Kingdom</td>\n",
              "    </tr>\n",
              "    <tr>\n",
              "      <th>4</th>\n",
              "      <td>536365</td>\n",
              "      <td>84029E</td>\n",
              "      <td>RED WOOLLY HOTTIE WHITE HEART.</td>\n",
              "      <td>6</td>\n",
              "      <td>12/1/2010 8:26</td>\n",
              "      <td>3.39</td>\n",
              "      <td>17850.0</td>\n",
              "      <td>United Kingdom</td>\n",
              "    </tr>\n",
              "    <tr>\n",
              "      <th>...</th>\n",
              "      <td>...</td>\n",
              "      <td>...</td>\n",
              "      <td>...</td>\n",
              "      <td>...</td>\n",
              "      <td>...</td>\n",
              "      <td>...</td>\n",
              "      <td>...</td>\n",
              "      <td>...</td>\n",
              "    </tr>\n",
              "    <tr>\n",
              "      <th>541905</th>\n",
              "      <td>581587</td>\n",
              "      <td>22899</td>\n",
              "      <td>CHILDREN'S APRON DOLLY GIRL</td>\n",
              "      <td>6</td>\n",
              "      <td>12/9/2011 12:50</td>\n",
              "      <td>2.10</td>\n",
              "      <td>12680.0</td>\n",
              "      <td>France</td>\n",
              "    </tr>\n",
              "    <tr>\n",
              "      <th>541906</th>\n",
              "      <td>581587</td>\n",
              "      <td>23254</td>\n",
              "      <td>CHILDRENS CUTLERY DOLLY GIRL</td>\n",
              "      <td>4</td>\n",
              "      <td>12/9/2011 12:50</td>\n",
              "      <td>4.15</td>\n",
              "      <td>12680.0</td>\n",
              "      <td>France</td>\n",
              "    </tr>\n",
              "    <tr>\n",
              "      <th>541907</th>\n",
              "      <td>581587</td>\n",
              "      <td>23255</td>\n",
              "      <td>CHILDRENS CUTLERY CIRCUS PARADE</td>\n",
              "      <td>4</td>\n",
              "      <td>12/9/2011 12:50</td>\n",
              "      <td>4.15</td>\n",
              "      <td>12680.0</td>\n",
              "      <td>France</td>\n",
              "    </tr>\n",
              "    <tr>\n",
              "      <th>541908</th>\n",
              "      <td>581587</td>\n",
              "      <td>22138</td>\n",
              "      <td>BAKING SET 9 PIECE RETROSPOT</td>\n",
              "      <td>3</td>\n",
              "      <td>12/9/2011 12:50</td>\n",
              "      <td>4.95</td>\n",
              "      <td>12680.0</td>\n",
              "      <td>France</td>\n",
              "    </tr>\n",
              "    <tr>\n",
              "      <th>541909</th>\n",
              "      <td>581587</td>\n",
              "      <td>POST</td>\n",
              "      <td>POSTAGE</td>\n",
              "      <td>1</td>\n",
              "      <td>12/9/2011 12:50</td>\n",
              "      <td>18.00</td>\n",
              "      <td>12680.0</td>\n",
              "      <td>France</td>\n",
              "    </tr>\n",
              "  </tbody>\n",
              "</table>\n",
              "<p>541910 rows × 8 columns</p>\n",
              "</div>"
            ],
            "text/plain": [
              "       Invoice StockCode  ... Customer ID         Country\n",
              "0       536365    85123A  ...     17850.0  United Kingdom\n",
              "1       536365     71053  ...     17850.0  United Kingdom\n",
              "2       536365    84406B  ...     17850.0  United Kingdom\n",
              "3       536365    84029G  ...     17850.0  United Kingdom\n",
              "4       536365    84029E  ...     17850.0  United Kingdom\n",
              "...        ...       ...  ...         ...             ...\n",
              "541905  581587     22899  ...     12680.0          France\n",
              "541906  581587     23254  ...     12680.0          France\n",
              "541907  581587     23255  ...     12680.0          France\n",
              "541908  581587     22138  ...     12680.0          France\n",
              "541909  581587      POST  ...     12680.0          France\n",
              "\n",
              "[541910 rows x 8 columns]"
            ]
          },
          "metadata": {
            "tags": []
          },
          "execution_count": 8
        }
      ]
    },
    {
      "cell_type": "markdown",
      "metadata": {
        "id": "JpP0UrNMtuWV"
      },
      "source": [
        "2. ทำความสะอาดข้อมูล โดยการลบรายการที่ถูกยกเลิกออก"
      ]
    },
    {
      "cell_type": "code",
      "metadata": {
        "id": "TOFeLyv2tqPZ"
      },
      "source": [
        "df['Description'] = df['Description'].str.strip()\n",
        "df.dropna(axis=0, subset=['Invoice'], inplace=True)\n",
        "df['Invoice'] = df['Invoice'].astype('str')\n",
        "df = df[~df['Invoice'].str.contains('C')]"
      ],
      "execution_count": 9,
      "outputs": []
    },
    {
      "cell_type": "markdown",
      "metadata": {
        "id": "koGRHKeKt36w"
      },
      "source": [
        "3. Group by ข้อมูล Invoice และ Description โดยให้แสดงจำนวนสินค้าที่ถูกสั่งในแต่ละรายการ (Invoice) ถ้าไม่ได้สั่งสินค้านั้นก็ให้ใส่เลขศูนย์"
      ]
    },
    {
      "cell_type": "code",
      "metadata": {
        "id": "cbz5R4JxtqNF"
      },
      "source": [
        "basket0 = (df.groupby(['Invoice', 'Description'])['Quantity']\n",
        "          .sum().unstack().reset_index().fillna(0)\n",
        "          .set_index('Invoice'))"
      ],
      "execution_count": 10,
      "outputs": []
    },
    {
      "cell_type": "markdown",
      "metadata": {
        "id": "yEappEmtt9ws"
      },
      "source": [
        "4. แปลงค่าข้อมูลในตาราง basket0 ถ้าค่าข้อมูลเป็น <= 0 ให้เปลี่ยนเป็นเลข 0 แต่ถ้าค่าข้อมูลเป็น >= 1 ให้เปลี่ยนเป็นเลข 1 และลบ รหัสไปรษณีย์ (POSTAGE)"
      ]
    },
    {
      "cell_type": "code",
      "metadata": {
        "id": "YTtZec2EtqHu"
      },
      "source": [
        "def encode_units(x):\n",
        "    if x <= 0:\n",
        "        return 0\n",
        "    if x >= 1:\n",
        "        return 1\n"
      ],
      "execution_count": 7,
      "outputs": []
    },
    {
      "cell_type": "markdown",
      "metadata": {
        "id": "wdC2mzEcuCNi"
      },
      "source": [
        "5. กฎความสัมพันธ์ โดยกำหนด confidence >= 0.8"
      ]
    },
    {
      "cell_type": "code",
      "metadata": {
        "id": "qtblZQUHtqFK"
      },
      "source": [
        "basket0_sets = basket0.applymap(encode_units)\n",
        "basket0_sets.drop('POSTAGE', inplace=True, axis=1)\n",
        "frequent_itemsets0 = apriori(basket0_sets, min_support=0.018, use_colnames=True)\n",
        "rules0 = association_rules(frequent_itemsets0, metric=\"lift\", min_threshold=1)\n",
        "\n",
        "AssoAll = rules0[ (rules0['lift'] >= 4)& (rules0['confidence'] >= 0.8)]"
      ],
      "execution_count": 12,
      "outputs": []
    },
    {
      "cell_type": "code",
      "metadata": {
        "id": "5Qzu4_pKuC2X",
        "colab": {
          "base_uri": "https://localhost:8080/",
          "height": 343
        },
        "outputId": "7f5d5eeb-3b26-4ac9-bc62-02441d8787a7"
      },
      "source": [
        "AssoAll"
      ],
      "execution_count": 13,
      "outputs": [
        {
          "output_type": "execute_result",
          "data": {
            "text/html": [
              "<div>\n",
              "<style scoped>\n",
              "    .dataframe tbody tr th:only-of-type {\n",
              "        vertical-align: middle;\n",
              "    }\n",
              "\n",
              "    .dataframe tbody tr th {\n",
              "        vertical-align: top;\n",
              "    }\n",
              "\n",
              "    .dataframe thead th {\n",
              "        text-align: right;\n",
              "    }\n",
              "</style>\n",
              "<table border=\"1\" class=\"dataframe\">\n",
              "  <thead>\n",
              "    <tr style=\"text-align: right;\">\n",
              "      <th></th>\n",
              "      <th>antecedents</th>\n",
              "      <th>consequents</th>\n",
              "      <th>antecedent support</th>\n",
              "      <th>consequent support</th>\n",
              "      <th>support</th>\n",
              "      <th>confidence</th>\n",
              "      <th>lift</th>\n",
              "      <th>leverage</th>\n",
              "      <th>conviction</th>\n",
              "    </tr>\n",
              "  </thead>\n",
              "  <tbody>\n",
              "    <tr>\n",
              "      <th>35</th>\n",
              "      <td>(PINK REGENCY TEACUP AND SAUCER)</td>\n",
              "      <td>(GREEN REGENCY TEACUP AND SAUCER)</td>\n",
              "      <td>0.037166</td>\n",
              "      <td>0.049248</td>\n",
              "      <td>0.030713</td>\n",
              "      <td>0.826371</td>\n",
              "      <td>16.779804</td>\n",
              "      <td>0.028883</td>\n",
              "      <td>5.475760</td>\n",
              "    </tr>\n",
              "    <tr>\n",
              "      <th>209</th>\n",
              "      <td>(GREEN REGENCY TEACUP AND SAUCER, PINK REGENCY...</td>\n",
              "      <td>(ROSES REGENCY TEACUP AND SAUCER)</td>\n",
              "      <td>0.030713</td>\n",
              "      <td>0.051722</td>\n",
              "      <td>0.026298</td>\n",
              "      <td>0.856240</td>\n",
              "      <td>16.554511</td>\n",
              "      <td>0.024709</td>\n",
              "      <td>6.596260</td>\n",
              "    </tr>\n",
              "    <tr>\n",
              "      <th>210</th>\n",
              "      <td>(ROSES REGENCY TEACUP AND SAUCER, PINK REGENCY...</td>\n",
              "      <td>(GREEN REGENCY TEACUP AND SAUCER)</td>\n",
              "      <td>0.029064</td>\n",
              "      <td>0.049248</td>\n",
              "      <td>0.026298</td>\n",
              "      <td>0.904841</td>\n",
              "      <td>18.373184</td>\n",
              "      <td>0.024867</td>\n",
              "      <td>9.991237</td>\n",
              "    </tr>\n",
              "    <tr>\n",
              "      <th>214</th>\n",
              "      <td>(GREEN REGENCY TEACUP AND SAUCER, REGENCY CAKE...</td>\n",
              "      <td>(ROSES REGENCY TEACUP AND SAUCER)</td>\n",
              "      <td>0.024697</td>\n",
              "      <td>0.051722</td>\n",
              "      <td>0.019796</td>\n",
              "      <td>0.801572</td>\n",
              "      <td>15.497554</td>\n",
              "      <td>0.018519</td>\n",
              "      <td>4.778943</td>\n",
              "    </tr>\n",
              "    <tr>\n",
              "      <th>220</th>\n",
              "      <td>(JUMBO BAG PINK POLKADOT, JUMBO SHOPPER VINTAG...</td>\n",
              "      <td>(JUMBO BAG RED RETROSPOT)</td>\n",
              "      <td>0.022707</td>\n",
              "      <td>0.101504</td>\n",
              "      <td>0.018341</td>\n",
              "      <td>0.807692</td>\n",
              "      <td>7.957236</td>\n",
              "      <td>0.016036</td>\n",
              "      <td>4.672179</td>\n",
              "    </tr>\n",
              "    <tr>\n",
              "      <th>226</th>\n",
              "      <td>(JUMBO BAG PINK POLKADOT, JUMBO STORAGE BAG SUKI)</td>\n",
              "      <td>(JUMBO BAG RED RETROSPOT)</td>\n",
              "      <td>0.024988</td>\n",
              "      <td>0.101504</td>\n",
              "      <td>0.020039</td>\n",
              "      <td>0.801942</td>\n",
              "      <td>7.900583</td>\n",
              "      <td>0.017502</td>\n",
              "      <td>4.536523</td>\n",
              "    </tr>\n",
              "  </tbody>\n",
              "</table>\n",
              "</div>"
            ],
            "text/plain": [
              "                                           antecedents  ... conviction\n",
              "35                    (PINK REGENCY TEACUP AND SAUCER)  ...   5.475760\n",
              "209  (GREEN REGENCY TEACUP AND SAUCER, PINK REGENCY...  ...   6.596260\n",
              "210  (ROSES REGENCY TEACUP AND SAUCER, PINK REGENCY...  ...   9.991237\n",
              "214  (GREEN REGENCY TEACUP AND SAUCER, REGENCY CAKE...  ...   4.778943\n",
              "220  (JUMBO BAG PINK POLKADOT, JUMBO SHOPPER VINTAG...  ...   4.672179\n",
              "226  (JUMBO BAG PINK POLKADOT, JUMBO STORAGE BAG SUKI)  ...   4.536523\n",
              "\n",
              "[6 rows x 9 columns]"
            ]
          },
          "metadata": {
            "tags": []
          },
          "execution_count": 13
        }
      ]
    },
    {
      "cell_type": "markdown",
      "metadata": {
        "id": "v-ryOslVwMdD"
      },
      "source": [
        "# Association Some Country"
      ]
    },
    {
      "cell_type": "code",
      "metadata": {
        "id": "2Xjmo-h8uC1O",
        "colab": {
          "base_uri": "https://localhost:8080/",
          "height": 196
        },
        "outputId": "e8e6f0f3-b945-429a-a5da-57099880fae7"
      },
      "source": [
        "df.head()"
      ],
      "execution_count": 26,
      "outputs": [
        {
          "output_type": "execute_result",
          "data": {
            "text/html": [
              "<div>\n",
              "<style scoped>\n",
              "    .dataframe tbody tr th:only-of-type {\n",
              "        vertical-align: middle;\n",
              "    }\n",
              "\n",
              "    .dataframe tbody tr th {\n",
              "        vertical-align: top;\n",
              "    }\n",
              "\n",
              "    .dataframe thead th {\n",
              "        text-align: right;\n",
              "    }\n",
              "</style>\n",
              "<table border=\"1\" class=\"dataframe\">\n",
              "  <thead>\n",
              "    <tr style=\"text-align: right;\">\n",
              "      <th></th>\n",
              "      <th>Invoice</th>\n",
              "      <th>StockCode</th>\n",
              "      <th>Description</th>\n",
              "      <th>Quantity</th>\n",
              "      <th>InvoiceDate</th>\n",
              "      <th>Price</th>\n",
              "      <th>Customer ID</th>\n",
              "      <th>Country</th>\n",
              "    </tr>\n",
              "  </thead>\n",
              "  <tbody>\n",
              "    <tr>\n",
              "      <th>0</th>\n",
              "      <td>536365</td>\n",
              "      <td>85123A</td>\n",
              "      <td>WHITE HANGING HEART T-LIGHT HOLDER</td>\n",
              "      <td>6</td>\n",
              "      <td>12/1/2010 8:26</td>\n",
              "      <td>2.55</td>\n",
              "      <td>17850.0</td>\n",
              "      <td>United Kingdom</td>\n",
              "    </tr>\n",
              "    <tr>\n",
              "      <th>1</th>\n",
              "      <td>536365</td>\n",
              "      <td>71053</td>\n",
              "      <td>WHITE METAL LANTERN</td>\n",
              "      <td>6</td>\n",
              "      <td>12/1/2010 8:26</td>\n",
              "      <td>3.39</td>\n",
              "      <td>17850.0</td>\n",
              "      <td>United Kingdom</td>\n",
              "    </tr>\n",
              "    <tr>\n",
              "      <th>2</th>\n",
              "      <td>536365</td>\n",
              "      <td>84406B</td>\n",
              "      <td>CREAM CUPID HEARTS COAT HANGER</td>\n",
              "      <td>8</td>\n",
              "      <td>12/1/2010 8:26</td>\n",
              "      <td>2.75</td>\n",
              "      <td>17850.0</td>\n",
              "      <td>United Kingdom</td>\n",
              "    </tr>\n",
              "    <tr>\n",
              "      <th>3</th>\n",
              "      <td>536365</td>\n",
              "      <td>84029G</td>\n",
              "      <td>KNITTED UNION FLAG HOT WATER BOTTLE</td>\n",
              "      <td>6</td>\n",
              "      <td>12/1/2010 8:26</td>\n",
              "      <td>3.39</td>\n",
              "      <td>17850.0</td>\n",
              "      <td>United Kingdom</td>\n",
              "    </tr>\n",
              "    <tr>\n",
              "      <th>4</th>\n",
              "      <td>536365</td>\n",
              "      <td>84029E</td>\n",
              "      <td>RED WOOLLY HOTTIE WHITE HEART.</td>\n",
              "      <td>6</td>\n",
              "      <td>12/1/2010 8:26</td>\n",
              "      <td>3.39</td>\n",
              "      <td>17850.0</td>\n",
              "      <td>United Kingdom</td>\n",
              "    </tr>\n",
              "  </tbody>\n",
              "</table>\n",
              "</div>"
            ],
            "text/plain": [
              "  Invoice StockCode  ... Customer ID         Country\n",
              "0  536365    85123A  ...     17850.0  United Kingdom\n",
              "1  536365     71053  ...     17850.0  United Kingdom\n",
              "2  536365    84406B  ...     17850.0  United Kingdom\n",
              "3  536365    84029G  ...     17850.0  United Kingdom\n",
              "4  536365    84029E  ...     17850.0  United Kingdom\n",
              "\n",
              "[5 rows x 8 columns]"
            ]
          },
          "metadata": {
            "tags": []
          },
          "execution_count": 26
        }
      ]
    },
    {
      "cell_type": "code",
      "metadata": {
        "colab": {
          "base_uri": "https://localhost:8080/",
          "height": 196
        },
        "id": "sVE_5J5u1jTU",
        "outputId": "a51a485c-af90-4288-aa61-5a03f7923a06"
      },
      "source": [
        "dft = df.iloc[:5,:]\n",
        "dft"
      ],
      "execution_count": 32,
      "outputs": [
        {
          "output_type": "execute_result",
          "data": {
            "text/html": [
              "<div>\n",
              "<style scoped>\n",
              "    .dataframe tbody tr th:only-of-type {\n",
              "        vertical-align: middle;\n",
              "    }\n",
              "\n",
              "    .dataframe tbody tr th {\n",
              "        vertical-align: top;\n",
              "    }\n",
              "\n",
              "    .dataframe thead th {\n",
              "        text-align: right;\n",
              "    }\n",
              "</style>\n",
              "<table border=\"1\" class=\"dataframe\">\n",
              "  <thead>\n",
              "    <tr style=\"text-align: right;\">\n",
              "      <th></th>\n",
              "      <th>Invoice</th>\n",
              "      <th>StockCode</th>\n",
              "      <th>Description</th>\n",
              "      <th>Quantity</th>\n",
              "      <th>InvoiceDate</th>\n",
              "      <th>Price</th>\n",
              "      <th>Customer ID</th>\n",
              "      <th>Country</th>\n",
              "    </tr>\n",
              "  </thead>\n",
              "  <tbody>\n",
              "    <tr>\n",
              "      <th>0</th>\n",
              "      <td>536365</td>\n",
              "      <td>85123A</td>\n",
              "      <td>WHITE HANGING HEART T-LIGHT HOLDER</td>\n",
              "      <td>6</td>\n",
              "      <td>12/1/2010 8:26</td>\n",
              "      <td>2.55</td>\n",
              "      <td>17850.0</td>\n",
              "      <td>United Kingdom</td>\n",
              "    </tr>\n",
              "    <tr>\n",
              "      <th>1</th>\n",
              "      <td>536365</td>\n",
              "      <td>71053</td>\n",
              "      <td>WHITE METAL LANTERN</td>\n",
              "      <td>6</td>\n",
              "      <td>12/1/2010 8:26</td>\n",
              "      <td>3.39</td>\n",
              "      <td>17850.0</td>\n",
              "      <td>United Kingdom</td>\n",
              "    </tr>\n",
              "    <tr>\n",
              "      <th>2</th>\n",
              "      <td>536365</td>\n",
              "      <td>84406B</td>\n",
              "      <td>CREAM CUPID HEARTS COAT HANGER</td>\n",
              "      <td>8</td>\n",
              "      <td>12/1/2010 8:26</td>\n",
              "      <td>2.75</td>\n",
              "      <td>17850.0</td>\n",
              "      <td>United Kingdom</td>\n",
              "    </tr>\n",
              "    <tr>\n",
              "      <th>3</th>\n",
              "      <td>536365</td>\n",
              "      <td>84029G</td>\n",
              "      <td>KNITTED UNION FLAG HOT WATER BOTTLE</td>\n",
              "      <td>6</td>\n",
              "      <td>12/1/2010 8:26</td>\n",
              "      <td>3.39</td>\n",
              "      <td>17850.0</td>\n",
              "      <td>United Kingdom</td>\n",
              "    </tr>\n",
              "    <tr>\n",
              "      <th>4</th>\n",
              "      <td>536365</td>\n",
              "      <td>84029E</td>\n",
              "      <td>RED WOOLLY HOTTIE WHITE HEART.</td>\n",
              "      <td>6</td>\n",
              "      <td>12/1/2010 8:26</td>\n",
              "      <td>3.39</td>\n",
              "      <td>17850.0</td>\n",
              "      <td>United Kingdom</td>\n",
              "    </tr>\n",
              "  </tbody>\n",
              "</table>\n",
              "</div>"
            ],
            "text/plain": [
              "  Invoice StockCode  ... Customer ID         Country\n",
              "0  536365    85123A  ...     17850.0  United Kingdom\n",
              "1  536365     71053  ...     17850.0  United Kingdom\n",
              "2  536365    84406B  ...     17850.0  United Kingdom\n",
              "3  536365    84029G  ...     17850.0  United Kingdom\n",
              "4  536365    84029E  ...     17850.0  United Kingdom\n",
              "\n",
              "[5 rows x 8 columns]"
            ]
          },
          "metadata": {
            "tags": []
          },
          "execution_count": 32
        }
      ]
    },
    {
      "cell_type": "code",
      "metadata": {
        "colab": {
          "base_uri": "https://localhost:8080/",
          "height": 408
        },
        "id": "tIP57l3s1tyk",
        "outputId": "f4026aa6-33ec-4fcc-bcba-45cbc8bd8344"
      },
      "source": [
        "df['Sales'] = df['Quantity'] * df['Price']\n",
        "df_new = df\n",
        "df_new"
      ],
      "execution_count": 33,
      "outputs": [
        {
          "output_type": "execute_result",
          "data": {
            "text/html": [
              "<div>\n",
              "<style scoped>\n",
              "    .dataframe tbody tr th:only-of-type {\n",
              "        vertical-align: middle;\n",
              "    }\n",
              "\n",
              "    .dataframe tbody tr th {\n",
              "        vertical-align: top;\n",
              "    }\n",
              "\n",
              "    .dataframe thead th {\n",
              "        text-align: right;\n",
              "    }\n",
              "</style>\n",
              "<table border=\"1\" class=\"dataframe\">\n",
              "  <thead>\n",
              "    <tr style=\"text-align: right;\">\n",
              "      <th></th>\n",
              "      <th>Invoice</th>\n",
              "      <th>StockCode</th>\n",
              "      <th>Description</th>\n",
              "      <th>Quantity</th>\n",
              "      <th>InvoiceDate</th>\n",
              "      <th>Price</th>\n",
              "      <th>Customer ID</th>\n",
              "      <th>Country</th>\n",
              "      <th>Sales</th>\n",
              "    </tr>\n",
              "  </thead>\n",
              "  <tbody>\n",
              "    <tr>\n",
              "      <th>0</th>\n",
              "      <td>536365</td>\n",
              "      <td>85123A</td>\n",
              "      <td>WHITE HANGING HEART T-LIGHT HOLDER</td>\n",
              "      <td>6</td>\n",
              "      <td>12/1/2010 8:26</td>\n",
              "      <td>2.55</td>\n",
              "      <td>17850.0</td>\n",
              "      <td>United Kingdom</td>\n",
              "      <td>15.30</td>\n",
              "    </tr>\n",
              "    <tr>\n",
              "      <th>1</th>\n",
              "      <td>536365</td>\n",
              "      <td>71053</td>\n",
              "      <td>WHITE METAL LANTERN</td>\n",
              "      <td>6</td>\n",
              "      <td>12/1/2010 8:26</td>\n",
              "      <td>3.39</td>\n",
              "      <td>17850.0</td>\n",
              "      <td>United Kingdom</td>\n",
              "      <td>20.34</td>\n",
              "    </tr>\n",
              "    <tr>\n",
              "      <th>2</th>\n",
              "      <td>536365</td>\n",
              "      <td>84406B</td>\n",
              "      <td>CREAM CUPID HEARTS COAT HANGER</td>\n",
              "      <td>8</td>\n",
              "      <td>12/1/2010 8:26</td>\n",
              "      <td>2.75</td>\n",
              "      <td>17850.0</td>\n",
              "      <td>United Kingdom</td>\n",
              "      <td>22.00</td>\n",
              "    </tr>\n",
              "    <tr>\n",
              "      <th>3</th>\n",
              "      <td>536365</td>\n",
              "      <td>84029G</td>\n",
              "      <td>KNITTED UNION FLAG HOT WATER BOTTLE</td>\n",
              "      <td>6</td>\n",
              "      <td>12/1/2010 8:26</td>\n",
              "      <td>3.39</td>\n",
              "      <td>17850.0</td>\n",
              "      <td>United Kingdom</td>\n",
              "      <td>20.34</td>\n",
              "    </tr>\n",
              "    <tr>\n",
              "      <th>4</th>\n",
              "      <td>536365</td>\n",
              "      <td>84029E</td>\n",
              "      <td>RED WOOLLY HOTTIE WHITE HEART.</td>\n",
              "      <td>6</td>\n",
              "      <td>12/1/2010 8:26</td>\n",
              "      <td>3.39</td>\n",
              "      <td>17850.0</td>\n",
              "      <td>United Kingdom</td>\n",
              "      <td>20.34</td>\n",
              "    </tr>\n",
              "    <tr>\n",
              "      <th>...</th>\n",
              "      <td>...</td>\n",
              "      <td>...</td>\n",
              "      <td>...</td>\n",
              "      <td>...</td>\n",
              "      <td>...</td>\n",
              "      <td>...</td>\n",
              "      <td>...</td>\n",
              "      <td>...</td>\n",
              "      <td>...</td>\n",
              "    </tr>\n",
              "    <tr>\n",
              "      <th>541905</th>\n",
              "      <td>581587</td>\n",
              "      <td>22899</td>\n",
              "      <td>CHILDREN'S APRON DOLLY GIRL</td>\n",
              "      <td>6</td>\n",
              "      <td>12/9/2011 12:50</td>\n",
              "      <td>2.10</td>\n",
              "      <td>12680.0</td>\n",
              "      <td>France</td>\n",
              "      <td>12.60</td>\n",
              "    </tr>\n",
              "    <tr>\n",
              "      <th>541906</th>\n",
              "      <td>581587</td>\n",
              "      <td>23254</td>\n",
              "      <td>CHILDRENS CUTLERY DOLLY GIRL</td>\n",
              "      <td>4</td>\n",
              "      <td>12/9/2011 12:50</td>\n",
              "      <td>4.15</td>\n",
              "      <td>12680.0</td>\n",
              "      <td>France</td>\n",
              "      <td>16.60</td>\n",
              "    </tr>\n",
              "    <tr>\n",
              "      <th>541907</th>\n",
              "      <td>581587</td>\n",
              "      <td>23255</td>\n",
              "      <td>CHILDRENS CUTLERY CIRCUS PARADE</td>\n",
              "      <td>4</td>\n",
              "      <td>12/9/2011 12:50</td>\n",
              "      <td>4.15</td>\n",
              "      <td>12680.0</td>\n",
              "      <td>France</td>\n",
              "      <td>16.60</td>\n",
              "    </tr>\n",
              "    <tr>\n",
              "      <th>541908</th>\n",
              "      <td>581587</td>\n",
              "      <td>22138</td>\n",
              "      <td>BAKING SET 9 PIECE RETROSPOT</td>\n",
              "      <td>3</td>\n",
              "      <td>12/9/2011 12:50</td>\n",
              "      <td>4.95</td>\n",
              "      <td>12680.0</td>\n",
              "      <td>France</td>\n",
              "      <td>14.85</td>\n",
              "    </tr>\n",
              "    <tr>\n",
              "      <th>541909</th>\n",
              "      <td>581587</td>\n",
              "      <td>POST</td>\n",
              "      <td>POSTAGE</td>\n",
              "      <td>1</td>\n",
              "      <td>12/9/2011 12:50</td>\n",
              "      <td>18.00</td>\n",
              "      <td>12680.0</td>\n",
              "      <td>France</td>\n",
              "      <td>18.00</td>\n",
              "    </tr>\n",
              "  </tbody>\n",
              "</table>\n",
              "<p>541910 rows × 9 columns</p>\n",
              "</div>"
            ],
            "text/plain": [
              "       Invoice StockCode  ...         Country  Sales\n",
              "0       536365    85123A  ...  United Kingdom  15.30\n",
              "1       536365     71053  ...  United Kingdom  20.34\n",
              "2       536365    84406B  ...  United Kingdom  22.00\n",
              "3       536365    84029G  ...  United Kingdom  20.34\n",
              "4       536365    84029E  ...  United Kingdom  20.34\n",
              "...        ...       ...  ...             ...    ...\n",
              "541905  581587     22899  ...          France  12.60\n",
              "541906  581587     23254  ...          France  16.60\n",
              "541907  581587     23255  ...          France  16.60\n",
              "541908  581587     22138  ...          France  14.85\n",
              "541909  581587      POST  ...          France  18.00\n",
              "\n",
              "[541910 rows x 9 columns]"
            ]
          },
          "metadata": {
            "tags": []
          },
          "execution_count": 33
        }
      ]
    },
    {
      "cell_type": "code",
      "metadata": {
        "colab": {
          "base_uri": "https://localhost:8080/",
          "height": 1000
        },
        "id": "E5u7OvBK0bbu",
        "outputId": "8b27ee2f-3914-47ac-a9a4-9cb6681ec80b"
      },
      "source": [
        "df_country = df_new.groupby('Country').sum().sort_values('Sales', ascending=False)\n",
        "df_country"
      ],
      "execution_count": 34,
      "outputs": [
        {
          "output_type": "execute_result",
          "data": {
            "text/html": [
              "<div>\n",
              "<style scoped>\n",
              "    .dataframe tbody tr th:only-of-type {\n",
              "        vertical-align: middle;\n",
              "    }\n",
              "\n",
              "    .dataframe tbody tr th {\n",
              "        vertical-align: top;\n",
              "    }\n",
              "\n",
              "    .dataframe thead th {\n",
              "        text-align: right;\n",
              "    }\n",
              "</style>\n",
              "<table border=\"1\" class=\"dataframe\">\n",
              "  <thead>\n",
              "    <tr style=\"text-align: right;\">\n",
              "      <th></th>\n",
              "      <th>Quantity</th>\n",
              "      <th>Price</th>\n",
              "      <th>Customer ID</th>\n",
              "      <th>Sales</th>\n",
              "    </tr>\n",
              "    <tr>\n",
              "      <th>Country</th>\n",
              "      <th></th>\n",
              "      <th></th>\n",
              "      <th></th>\n",
              "      <th></th>\n",
              "    </tr>\n",
              "  </thead>\n",
              "  <tbody>\n",
              "    <tr>\n",
              "      <th>United Kingdom</th>\n",
              "      <td>4263829</td>\n",
              "      <td>2.245715e+06</td>\n",
              "      <td>5.626433e+09</td>\n",
              "      <td>8.187806e+06</td>\n",
              "    </tr>\n",
              "    <tr>\n",
              "      <th>Netherlands</th>\n",
              "      <td>200128</td>\n",
              "      <td>6.492550e+03</td>\n",
              "      <td>3.419054e+07</td>\n",
              "      <td>2.846615e+05</td>\n",
              "    </tr>\n",
              "    <tr>\n",
              "      <th>EIRE</th>\n",
              "      <td>142637</td>\n",
              "      <td>4.844719e+04</td>\n",
              "      <td>1.103917e+08</td>\n",
              "      <td>2.632768e+05</td>\n",
              "    </tr>\n",
              "    <tr>\n",
              "      <th>Germany</th>\n",
              "      <td>117448</td>\n",
              "      <td>3.766600e+04</td>\n",
              "      <td>1.200751e+08</td>\n",
              "      <td>2.216982e+05</td>\n",
              "    </tr>\n",
              "    <tr>\n",
              "      <th>France</th>\n",
              "      <td>110481</td>\n",
              "      <td>4.304999e+04</td>\n",
              "      <td>1.076615e+08</td>\n",
              "      <td>1.974219e+05</td>\n",
              "    </tr>\n",
              "    <tr>\n",
              "      <th>Australia</th>\n",
              "      <td>83653</td>\n",
              "      <td>4.054750e+03</td>\n",
              "      <td>1.569300e+07</td>\n",
              "      <td>1.370773e+05</td>\n",
              "    </tr>\n",
              "    <tr>\n",
              "      <th>Switzerland</th>\n",
              "      <td>30325</td>\n",
              "      <td>6.813690e+03</td>\n",
              "      <td>2.377592e+07</td>\n",
              "      <td>5.638535e+04</td>\n",
              "    </tr>\n",
              "    <tr>\n",
              "      <th>Spain</th>\n",
              "      <td>26824</td>\n",
              "      <td>1.263345e+04</td>\n",
              "      <td>3.268929e+07</td>\n",
              "      <td>5.477458e+04</td>\n",
              "    </tr>\n",
              "    <tr>\n",
              "      <th>Belgium</th>\n",
              "      <td>23152</td>\n",
              "      <td>7.540130e+03</td>\n",
              "      <td>2.571829e+07</td>\n",
              "      <td>4.091096e+04</td>\n",
              "    </tr>\n",
              "    <tr>\n",
              "      <th>Sweden</th>\n",
              "      <td>35637</td>\n",
              "      <td>1.806830e+03</td>\n",
              "      <td>6.790083e+06</td>\n",
              "      <td>3.659591e+04</td>\n",
              "    </tr>\n",
              "    <tr>\n",
              "      <th>Japan</th>\n",
              "      <td>25218</td>\n",
              "      <td>8.148600e+02</td>\n",
              "      <td>4.567292e+06</td>\n",
              "      <td>3.534062e+04</td>\n",
              "    </tr>\n",
              "    <tr>\n",
              "      <th>Norway</th>\n",
              "      <td>19247</td>\n",
              "      <td>6.529060e+03</td>\n",
              "      <td>1.350765e+07</td>\n",
              "      <td>3.516346e+04</td>\n",
              "    </tr>\n",
              "    <tr>\n",
              "      <th>Portugal</th>\n",
              "      <td>16180</td>\n",
              "      <td>1.303754e+04</td>\n",
              "      <td>1.886480e+07</td>\n",
              "      <td>2.936702e+04</td>\n",
              "    </tr>\n",
              "    <tr>\n",
              "      <th>Finland</th>\n",
              "      <td>10666</td>\n",
              "      <td>3.786850e+03</td>\n",
              "      <td>8.699324e+06</td>\n",
              "      <td>2.232674e+04</td>\n",
              "    </tr>\n",
              "    <tr>\n",
              "      <th>Channel Islands</th>\n",
              "      <td>9479</td>\n",
              "      <td>3.738550e+03</td>\n",
              "      <td>1.128522e+07</td>\n",
              "      <td>2.008629e+04</td>\n",
              "    </tr>\n",
              "    <tr>\n",
              "      <th>Denmark</th>\n",
              "      <td>8188</td>\n",
              "      <td>1.266950e+03</td>\n",
              "      <td>4.876734e+06</td>\n",
              "      <td>1.876814e+04</td>\n",
              "    </tr>\n",
              "    <tr>\n",
              "      <th>Italy</th>\n",
              "      <td>7999</td>\n",
              "      <td>3.879390e+03</td>\n",
              "      <td>1.015666e+07</td>\n",
              "      <td>1.689051e+04</td>\n",
              "    </tr>\n",
              "    <tr>\n",
              "      <th>Cyprus</th>\n",
              "      <td>6317</td>\n",
              "      <td>3.920070e+03</td>\n",
              "      <td>7.715880e+06</td>\n",
              "      <td>1.294629e+04</td>\n",
              "    </tr>\n",
              "    <tr>\n",
              "      <th>Austria</th>\n",
              "      <td>4827</td>\n",
              "      <td>1.701520e+03</td>\n",
              "      <td>5.021102e+06</td>\n",
              "      <td>1.015432e+04</td>\n",
              "    </tr>\n",
              "    <tr>\n",
              "      <th>Hong Kong</th>\n",
              "      <td>4769</td>\n",
              "      <td>1.224150e+04</td>\n",
              "      <td>0.000000e+00</td>\n",
              "      <td>1.011704e+04</td>\n",
              "    </tr>\n",
              "    <tr>\n",
              "      <th>Singapore</th>\n",
              "      <td>5234</td>\n",
              "      <td>2.510889e+04</td>\n",
              "      <td>2.918376e+06</td>\n",
              "      <td>9.120390e+03</td>\n",
              "    </tr>\n",
              "    <tr>\n",
              "      <th>Israel</th>\n",
              "      <td>4353</td>\n",
              "      <td>1.079040e+03</td>\n",
              "      <td>3.164467e+06</td>\n",
              "      <td>7.907820e+03</td>\n",
              "    </tr>\n",
              "    <tr>\n",
              "      <th>Poland</th>\n",
              "      <td>3653</td>\n",
              "      <td>1.422270e+03</td>\n",
              "      <td>4.341972e+06</td>\n",
              "      <td>7.213140e+03</td>\n",
              "    </tr>\n",
              "    <tr>\n",
              "      <th>Unspecified</th>\n",
              "      <td>3300</td>\n",
              "      <td>1.204010e+03</td>\n",
              "      <td>3.348046e+06</td>\n",
              "      <td>4.749790e+03</td>\n",
              "    </tr>\n",
              "    <tr>\n",
              "      <th>Greece</th>\n",
              "      <td>1556</td>\n",
              "      <td>7.132900e+02</td>\n",
              "      <td>2.008584e+06</td>\n",
              "      <td>4.710520e+03</td>\n",
              "    </tr>\n",
              "    <tr>\n",
              "      <th>Iceland</th>\n",
              "      <td>2458</td>\n",
              "      <td>4.812100e+02</td>\n",
              "      <td>2.247154e+06</td>\n",
              "      <td>4.310000e+03</td>\n",
              "    </tr>\n",
              "    <tr>\n",
              "      <th>Canada</th>\n",
              "      <td>2763</td>\n",
              "      <td>9.105800e+02</td>\n",
              "      <td>2.615483e+06</td>\n",
              "      <td>3.666380e+03</td>\n",
              "    </tr>\n",
              "    <tr>\n",
              "      <th>Malta</th>\n",
              "      <td>944</td>\n",
              "      <td>6.660100e+02</td>\n",
              "      <td>2.158496e+06</td>\n",
              "      <td>2.505470e+03</td>\n",
              "    </tr>\n",
              "    <tr>\n",
              "      <th>United Arab Emirates</th>\n",
              "      <td>982</td>\n",
              "      <td>2.298900e+02</td>\n",
              "      <td>1.018952e+06</td>\n",
              "      <td>1.902280e+03</td>\n",
              "    </tr>\n",
              "    <tr>\n",
              "      <th>USA</th>\n",
              "      <td>1034</td>\n",
              "      <td>6.449800e+02</td>\n",
              "      <td>3.672086e+06</td>\n",
              "      <td>1.730920e+03</td>\n",
              "    </tr>\n",
              "    <tr>\n",
              "      <th>Lebanon</th>\n",
              "      <td>386</td>\n",
              "      <td>2.424400e+02</td>\n",
              "      <td>5.743800e+05</td>\n",
              "      <td>1.693880e+03</td>\n",
              "    </tr>\n",
              "    <tr>\n",
              "      <th>Lithuania</th>\n",
              "      <td>652</td>\n",
              "      <td>9.944000e+01</td>\n",
              "      <td>5.366200e+05</td>\n",
              "      <td>1.661060e+03</td>\n",
              "    </tr>\n",
              "    <tr>\n",
              "      <th>European Community</th>\n",
              "      <td>497</td>\n",
              "      <td>2.940500e+02</td>\n",
              "      <td>9.215880e+05</td>\n",
              "      <td>1.291750e+03</td>\n",
              "    </tr>\n",
              "    <tr>\n",
              "      <th>Brazil</th>\n",
              "      <td>356</td>\n",
              "      <td>1.426000e+02</td>\n",
              "      <td>4.086080e+05</td>\n",
              "      <td>1.143600e+03</td>\n",
              "    </tr>\n",
              "    <tr>\n",
              "      <th>RSA</th>\n",
              "      <td>352</td>\n",
              "      <td>2.481000e+02</td>\n",
              "      <td>7.218680e+05</td>\n",
              "      <td>1.002310e+03</td>\n",
              "    </tr>\n",
              "    <tr>\n",
              "      <th>Czech Republic</th>\n",
              "      <td>592</td>\n",
              "      <td>8.815000e+01</td>\n",
              "      <td>3.834300e+05</td>\n",
              "      <td>7.077200e+02</td>\n",
              "    </tr>\n",
              "    <tr>\n",
              "      <th>Bahrain</th>\n",
              "      <td>260</td>\n",
              "      <td>8.657000e+01</td>\n",
              "      <td>2.100270e+05</td>\n",
              "      <td>5.484000e+02</td>\n",
              "    </tr>\n",
              "    <tr>\n",
              "      <th>Saudi Arabia</th>\n",
              "      <td>75</td>\n",
              "      <td>2.411000e+01</td>\n",
              "      <td>1.256500e+05</td>\n",
              "      <td>1.311700e+02</td>\n",
              "    </tr>\n",
              "  </tbody>\n",
              "</table>\n",
              "</div>"
            ],
            "text/plain": [
              "                      Quantity         Price   Customer ID         Sales\n",
              "Country                                                                 \n",
              "United Kingdom         4263829  2.245715e+06  5.626433e+09  8.187806e+06\n",
              "Netherlands             200128  6.492550e+03  3.419054e+07  2.846615e+05\n",
              "EIRE                    142637  4.844719e+04  1.103917e+08  2.632768e+05\n",
              "Germany                 117448  3.766600e+04  1.200751e+08  2.216982e+05\n",
              "France                  110481  4.304999e+04  1.076615e+08  1.974219e+05\n",
              "Australia                83653  4.054750e+03  1.569300e+07  1.370773e+05\n",
              "Switzerland              30325  6.813690e+03  2.377592e+07  5.638535e+04\n",
              "Spain                    26824  1.263345e+04  3.268929e+07  5.477458e+04\n",
              "Belgium                  23152  7.540130e+03  2.571829e+07  4.091096e+04\n",
              "Sweden                   35637  1.806830e+03  6.790083e+06  3.659591e+04\n",
              "Japan                    25218  8.148600e+02  4.567292e+06  3.534062e+04\n",
              "Norway                   19247  6.529060e+03  1.350765e+07  3.516346e+04\n",
              "Portugal                 16180  1.303754e+04  1.886480e+07  2.936702e+04\n",
              "Finland                  10666  3.786850e+03  8.699324e+06  2.232674e+04\n",
              "Channel Islands           9479  3.738550e+03  1.128522e+07  2.008629e+04\n",
              "Denmark                   8188  1.266950e+03  4.876734e+06  1.876814e+04\n",
              "Italy                     7999  3.879390e+03  1.015666e+07  1.689051e+04\n",
              "Cyprus                    6317  3.920070e+03  7.715880e+06  1.294629e+04\n",
              "Austria                   4827  1.701520e+03  5.021102e+06  1.015432e+04\n",
              "Hong Kong                 4769  1.224150e+04  0.000000e+00  1.011704e+04\n",
              "Singapore                 5234  2.510889e+04  2.918376e+06  9.120390e+03\n",
              "Israel                    4353  1.079040e+03  3.164467e+06  7.907820e+03\n",
              "Poland                    3653  1.422270e+03  4.341972e+06  7.213140e+03\n",
              "Unspecified               3300  1.204010e+03  3.348046e+06  4.749790e+03\n",
              "Greece                    1556  7.132900e+02  2.008584e+06  4.710520e+03\n",
              "Iceland                   2458  4.812100e+02  2.247154e+06  4.310000e+03\n",
              "Canada                    2763  9.105800e+02  2.615483e+06  3.666380e+03\n",
              "Malta                      944  6.660100e+02  2.158496e+06  2.505470e+03\n",
              "United Arab Emirates       982  2.298900e+02  1.018952e+06  1.902280e+03\n",
              "USA                       1034  6.449800e+02  3.672086e+06  1.730920e+03\n",
              "Lebanon                    386  2.424400e+02  5.743800e+05  1.693880e+03\n",
              "Lithuania                  652  9.944000e+01  5.366200e+05  1.661060e+03\n",
              "European Community         497  2.940500e+02  9.215880e+05  1.291750e+03\n",
              "Brazil                     356  1.426000e+02  4.086080e+05  1.143600e+03\n",
              "RSA                        352  2.481000e+02  7.218680e+05  1.002310e+03\n",
              "Czech Republic             592  8.815000e+01  3.834300e+05  7.077200e+02\n",
              "Bahrain                    260  8.657000e+01  2.100270e+05  5.484000e+02\n",
              "Saudi Arabia                75  2.411000e+01  1.256500e+05  1.311700e+02"
            ]
          },
          "metadata": {
            "tags": []
          },
          "execution_count": 34
        }
      ]
    },
    {
      "cell_type": "code",
      "metadata": {
        "id": "jgo2GPq1-K8c"
      },
      "source": [
        "df_country.to_csv('df_country.csv')"
      ],
      "execution_count": 35,
      "outputs": []
    },
    {
      "cell_type": "markdown",
      "metadata": {
        "id": "JPydZSdN2-nM"
      },
      "source": [
        "## United Kingdom"
      ]
    },
    {
      "cell_type": "code",
      "metadata": {
        "id": "ydKGcrdu0bY6"
      },
      "source": [
        "basket1 = (df[df['Country'] ==\"United Kingdom\"]\n",
        "          .groupby(['Invoice', 'Description'])['Quantity']\n",
        "          .sum().unstack().reset_index().fillna(0)\n",
        "          .set_index('Invoice'))\n",
        "\n",
        "basket_sets1 = basket1.applymap(encode_units)\n",
        "basket_sets1.drop('POSTAGE', inplace=True, axis=1)\n",
        "frequent_itemsets1 = apriori(basket_sets1, min_support=0.025, use_colnames=True)\n",
        "rules1 = association_rules(frequent_itemsets1, metric=\"lift\", min_threshold=1)\n",
        "\n",
        "asso_UK =  rules1[ (rules1['lift'] >= 4) &\n",
        "        (rules1['confidence'] >= 0.7)]"
      ],
      "execution_count": 30,
      "outputs": []
    },
    {
      "cell_type": "code",
      "metadata": {
        "colab": {
          "base_uri": "https://localhost:8080/",
          "height": 207
        },
        "id": "I_9fo-Hg4Kto",
        "outputId": "a9f80da0-5cfb-4526-bb34-85cac8795f51"
      },
      "source": [
        "asso_UK"
      ],
      "execution_count": 31,
      "outputs": [
        {
          "output_type": "execute_result",
          "data": {
            "text/html": [
              "<div>\n",
              "<style scoped>\n",
              "    .dataframe tbody tr th:only-of-type {\n",
              "        vertical-align: middle;\n",
              "    }\n",
              "\n",
              "    .dataframe tbody tr th {\n",
              "        vertical-align: top;\n",
              "    }\n",
              "\n",
              "    .dataframe thead th {\n",
              "        text-align: right;\n",
              "    }\n",
              "</style>\n",
              "<table border=\"1\" class=\"dataframe\">\n",
              "  <thead>\n",
              "    <tr style=\"text-align: right;\">\n",
              "      <th></th>\n",
              "      <th>antecedents</th>\n",
              "      <th>consequents</th>\n",
              "      <th>antecedent support</th>\n",
              "      <th>consequent support</th>\n",
              "      <th>support</th>\n",
              "      <th>confidence</th>\n",
              "      <th>lift</th>\n",
              "      <th>leverage</th>\n",
              "      <th>conviction</th>\n",
              "    </tr>\n",
              "  </thead>\n",
              "  <tbody>\n",
              "    <tr>\n",
              "      <th>2</th>\n",
              "      <td>(PINK REGENCY TEACUP AND SAUCER)</td>\n",
              "      <td>(GREEN REGENCY TEACUP AND SAUCER)</td>\n",
              "      <td>0.031897</td>\n",
              "      <td>0.042377</td>\n",
              "      <td>0.026180</td>\n",
              "      <td>0.820768</td>\n",
              "      <td>19.368019</td>\n",
              "      <td>0.024828</td>\n",
              "      <td>5.342926</td>\n",
              "    </tr>\n",
              "    <tr>\n",
              "      <th>4</th>\n",
              "      <td>(ROSES REGENCY TEACUP AND SAUCER )</td>\n",
              "      <td>(GREEN REGENCY TEACUP AND SAUCER)</td>\n",
              "      <td>0.043421</td>\n",
              "      <td>0.042377</td>\n",
              "      <td>0.031806</td>\n",
              "      <td>0.732497</td>\n",
              "      <td>17.285056</td>\n",
              "      <td>0.029966</td>\n",
              "      <td>3.579862</td>\n",
              "    </tr>\n",
              "    <tr>\n",
              "      <th>5</th>\n",
              "      <td>(GREEN REGENCY TEACUP AND SAUCER)</td>\n",
              "      <td>(ROSES REGENCY TEACUP AND SAUCER )</td>\n",
              "      <td>0.042377</td>\n",
              "      <td>0.043421</td>\n",
              "      <td>0.031806</td>\n",
              "      <td>0.750535</td>\n",
              "      <td>17.285056</td>\n",
              "      <td>0.029966</td>\n",
              "      <td>3.834527</td>\n",
              "    </tr>\n",
              "  </tbody>\n",
              "</table>\n",
              "</div>"
            ],
            "text/plain": [
              "                          antecedents  ... conviction\n",
              "2    (PINK REGENCY TEACUP AND SAUCER)  ...   5.342926\n",
              "4  (ROSES REGENCY TEACUP AND SAUCER )  ...   3.579862\n",
              "5   (GREEN REGENCY TEACUP AND SAUCER)  ...   3.834527\n",
              "\n",
              "[3 rows x 9 columns]"
            ]
          },
          "metadata": {
            "tags": []
          },
          "execution_count": 31
        }
      ]
    },
    {
      "cell_type": "code",
      "metadata": {
        "id": "T_FqhuFR5OlF"
      },
      "source": [
        "asso_UK.to_csv('asso_UK.csv')"
      ],
      "execution_count": 39,
      "outputs": []
    },
    {
      "cell_type": "markdown",
      "metadata": {
        "id": "iTVw63Kg4ES8"
      },
      "source": [
        "## Netherlands"
      ]
    },
    {
      "cell_type": "code",
      "metadata": {
        "id": "keo7PaS04EDO"
      },
      "source": [
        "basket2 = (df[df['Country'] ==\"Netherlands\"]\n",
        "          .groupby(['Invoice', 'Description'])['Quantity']\n",
        "          .sum().unstack().reset_index().fillna(0)\n",
        "          .set_index('Invoice'))\n",
        "\n",
        "basket_sets2 = basket2.applymap(encode_units)\n",
        "basket_sets2.drop('POSTAGE', inplace=True, axis=1)\n",
        "frequent_itemsets2 = apriori(basket_sets2, min_support=0.08, use_colnames=True)\n",
        "rules2 = association_rules(frequent_itemsets2, metric=\"lift\", min_threshold=1)\n",
        "\n",
        "asso_NTL = rules2[ (rules2['lift'] >= 5) &\n",
        "        (rules2['confidence'] >= 0.9)]"
      ],
      "execution_count": 24,
      "outputs": []
    },
    {
      "cell_type": "code",
      "metadata": {
        "colab": {
          "base_uri": "https://localhost:8080/",
          "height": 207
        },
        "id": "DRXd3lp20KQj",
        "outputId": "865e19d2-327c-47d7-9098-23a2078d7a81"
      },
      "source": [
        "asso_NTL"
      ],
      "execution_count": 25,
      "outputs": [
        {
          "output_type": "execute_result",
          "data": {
            "text/html": [
              "<div>\n",
              "<style scoped>\n",
              "    .dataframe tbody tr th:only-of-type {\n",
              "        vertical-align: middle;\n",
              "    }\n",
              "\n",
              "    .dataframe tbody tr th {\n",
              "        vertical-align: top;\n",
              "    }\n",
              "\n",
              "    .dataframe thead th {\n",
              "        text-align: right;\n",
              "    }\n",
              "</style>\n",
              "<table border=\"1\" class=\"dataframe\">\n",
              "  <thead>\n",
              "    <tr style=\"text-align: right;\">\n",
              "      <th></th>\n",
              "      <th>antecedents</th>\n",
              "      <th>consequents</th>\n",
              "      <th>antecedent support</th>\n",
              "      <th>consequent support</th>\n",
              "      <th>support</th>\n",
              "      <th>confidence</th>\n",
              "      <th>lift</th>\n",
              "      <th>leverage</th>\n",
              "      <th>conviction</th>\n",
              "    </tr>\n",
              "  </thead>\n",
              "  <tbody>\n",
              "    <tr>\n",
              "      <th>209</th>\n",
              "      <td>(DOLLY GIRL LUNCH BOX, RED RETROSPOT CHARLOTTE...</td>\n",
              "      <td>(SPACEBOY LUNCH BOX , ROUND SNACK BOXES SET OF...</td>\n",
              "      <td>0.089109</td>\n",
              "      <td>0.178218</td>\n",
              "      <td>0.089109</td>\n",
              "      <td>1.000000</td>\n",
              "      <td>5.611111</td>\n",
              "      <td>0.073228</td>\n",
              "      <td>inf</td>\n",
              "    </tr>\n",
              "    <tr>\n",
              "      <th>211</th>\n",
              "      <td>(SPACEBOY LUNCH BOX , RED RETROSPOT CHARLOTTE ...</td>\n",
              "      <td>(DOLLY GIRL LUNCH BOX, ROUND SNACK BOXES SET O...</td>\n",
              "      <td>0.089109</td>\n",
              "      <td>0.158416</td>\n",
              "      <td>0.089109</td>\n",
              "      <td>1.000000</td>\n",
              "      <td>6.312500</td>\n",
              "      <td>0.074993</td>\n",
              "      <td>inf</td>\n",
              "    </tr>\n",
              "    <tr>\n",
              "      <th>222</th>\n",
              "      <td>(DOLLY GIRL LUNCH BOX, ROUND SNACK BOXES SET O...</td>\n",
              "      <td>(SPACEBOY LUNCH BOX , ROUND SNACK BOXES SET OF...</td>\n",
              "      <td>0.108911</td>\n",
              "      <td>0.178218</td>\n",
              "      <td>0.099010</td>\n",
              "      <td>0.909091</td>\n",
              "      <td>5.101010</td>\n",
              "      <td>0.079600</td>\n",
              "      <td>9.039604</td>\n",
              "    </tr>\n",
              "  </tbody>\n",
              "</table>\n",
              "</div>"
            ],
            "text/plain": [
              "                                           antecedents  ... conviction\n",
              "209  (DOLLY GIRL LUNCH BOX, RED RETROSPOT CHARLOTTE...  ...        inf\n",
              "211  (SPACEBOY LUNCH BOX , RED RETROSPOT CHARLOTTE ...  ...        inf\n",
              "222  (DOLLY GIRL LUNCH BOX, ROUND SNACK BOXES SET O...  ...   9.039604\n",
              "\n",
              "[3 rows x 9 columns]"
            ]
          },
          "metadata": {
            "tags": []
          },
          "execution_count": 25
        }
      ]
    },
    {
      "cell_type": "code",
      "metadata": {
        "id": "jVip-ihnzFSX"
      },
      "source": [
        "asso_NTL.to_csv('asso_NTL.csv')"
      ],
      "execution_count": 26,
      "outputs": []
    },
    {
      "cell_type": "code",
      "metadata": {
        "id": "ljMUQ61AzFQP"
      },
      "source": [
        ""
      ],
      "execution_count": null,
      "outputs": []
    },
    {
      "cell_type": "markdown",
      "metadata": {
        "id": "LLzVL_Dzw-9E"
      },
      "source": [
        "## Germany"
      ]
    },
    {
      "cell_type": "code",
      "metadata": {
        "colab": {
          "base_uri": "https://localhost:8080/",
          "height": 207
        },
        "id": "vY7fpmcXwsQx",
        "outputId": "7c29f1ef-257e-4fa0-9f20-47caee34a59b"
      },
      "source": [
        "basket2 = (df[df['Country'] ==\"Germany\"]\n",
        "          .groupby(['Invoice', 'Description'])['Quantity']\n",
        "          .sum().unstack().reset_index().fillna(0)\n",
        "          .set_index('Invoice'))\n",
        "\n",
        "basket_sets2 = basket2.applymap(encode_units)\n",
        "basket_sets2.drop('POSTAGE', inplace=True, axis=1)\n",
        "frequent_itemsets2 = apriori(basket_sets2, min_support=0.05, use_colnames=True)\n",
        "rules2 = association_rules(frequent_itemsets2, metric=\"lift\", min_threshold=1)\n",
        "\n",
        "rules2[ (rules2['lift'] >= 4) &\n",
        "        (rules2['confidence'] >= 0.5)]"
      ],
      "execution_count": 16,
      "outputs": [
        {
          "output_type": "execute_result",
          "data": {
            "text/html": [
              "<div>\n",
              "<style scoped>\n",
              "    .dataframe tbody tr th:only-of-type {\n",
              "        vertical-align: middle;\n",
              "    }\n",
              "\n",
              "    .dataframe tbody tr th {\n",
              "        vertical-align: top;\n",
              "    }\n",
              "\n",
              "    .dataframe thead th {\n",
              "        text-align: right;\n",
              "    }\n",
              "</style>\n",
              "<table border=\"1\" class=\"dataframe\">\n",
              "  <thead>\n",
              "    <tr style=\"text-align: right;\">\n",
              "      <th></th>\n",
              "      <th>antecedents</th>\n",
              "      <th>consequents</th>\n",
              "      <th>antecedent support</th>\n",
              "      <th>consequent support</th>\n",
              "      <th>support</th>\n",
              "      <th>confidence</th>\n",
              "      <th>lift</th>\n",
              "      <th>leverage</th>\n",
              "      <th>conviction</th>\n",
              "    </tr>\n",
              "  </thead>\n",
              "  <tbody>\n",
              "    <tr>\n",
              "      <th>1</th>\n",
              "      <td>(PLASTERS IN TIN CIRCUS PARADE)</td>\n",
              "      <td>(PLASTERS IN TIN WOODLAND ANIMALS)</td>\n",
              "      <td>0.115974</td>\n",
              "      <td>0.137856</td>\n",
              "      <td>0.067834</td>\n",
              "      <td>0.584906</td>\n",
              "      <td>4.242887</td>\n",
              "      <td>0.051846</td>\n",
              "      <td>2.076984</td>\n",
              "    </tr>\n",
              "    <tr>\n",
              "      <th>7</th>\n",
              "      <td>(PLASTERS IN TIN SPACEBOY)</td>\n",
              "      <td>(PLASTERS IN TIN WOODLAND ANIMALS)</td>\n",
              "      <td>0.107221</td>\n",
              "      <td>0.137856</td>\n",
              "      <td>0.061269</td>\n",
              "      <td>0.571429</td>\n",
              "      <td>4.145125</td>\n",
              "      <td>0.046488</td>\n",
              "      <td>2.011670</td>\n",
              "    </tr>\n",
              "    <tr>\n",
              "      <th>11</th>\n",
              "      <td>(RED RETROSPOT CHARLOTTE BAG)</td>\n",
              "      <td>(WOODLAND CHARLOTTE BAG)</td>\n",
              "      <td>0.070022</td>\n",
              "      <td>0.126915</td>\n",
              "      <td>0.059081</td>\n",
              "      <td>0.843750</td>\n",
              "      <td>6.648168</td>\n",
              "      <td>0.050194</td>\n",
              "      <td>5.587746</td>\n",
              "    </tr>\n",
              "  </tbody>\n",
              "</table>\n",
              "</div>"
            ],
            "text/plain": [
              "                        antecedents  ... conviction\n",
              "1   (PLASTERS IN TIN CIRCUS PARADE)  ...   2.076984\n",
              "7        (PLASTERS IN TIN SPACEBOY)  ...   2.011670\n",
              "11    (RED RETROSPOT CHARLOTTE BAG)  ...   5.587746\n",
              "\n",
              "[3 rows x 9 columns]"
            ]
          },
          "metadata": {
            "tags": []
          },
          "execution_count": 16
        }
      ]
    },
    {
      "cell_type": "code",
      "metadata": {
        "id": "tsRRB0lN-bac"
      },
      "source": [
        ""
      ],
      "execution_count": 14,
      "outputs": []
    },
    {
      "cell_type": "code",
      "metadata": {
        "id": "M7yyF9F6wLuC"
      },
      "source": [
        ""
      ],
      "execution_count": 14,
      "outputs": []
    }
  ]
}