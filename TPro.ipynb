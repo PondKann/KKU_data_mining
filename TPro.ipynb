{
  "nbformat": 4,
  "nbformat_minor": 0,
  "metadata": {
    "colab": {
      "name": "TPro.ipynb",
      "provenance": [],
      "include_colab_link": true
    },
    "kernelspec": {
      "name": "python3",
      "display_name": "Python 3"
    }
  },
  "cells": [
    {
      "cell_type": "markdown",
      "metadata": {
        "id": "view-in-github",
        "colab_type": "text"
      },
      "source": [
        "<a href=\"https://colab.research.google.com/github/PondKann/KKU_data_mining/blob/master/TPro.ipynb\" target=\"_parent\"><img src=\"https://colab.research.google.com/assets/colab-badge.svg\" alt=\"Open In Colab\"/></a>"
      ]
    },
    {
      "cell_type": "code",
      "metadata": {
        "colab": {
          "base_uri": "https://localhost:8080/"
        },
        "id": "dEJSnkhkbbYI",
        "outputId": "9735df28-ca9a-48d0-da26-dc25d8d986df"
      },
      "source": [
        "from google.colab import drive \n",
        "drive.mount('/content/drive')"
      ],
      "execution_count": 1,
      "outputs": [
        {
          "output_type": "stream",
          "text": [
            "Mounted at /content/drive\n"
          ],
          "name": "stdout"
        }
      ]
    },
    {
      "cell_type": "code",
      "metadata": {
        "id": "N1YifqdQbeHJ"
      },
      "source": [
        "path = '/content/drive/My Drive/DataMining_Project'"
      ],
      "execution_count": 2,
      "outputs": []
    },
    {
      "cell_type": "code",
      "metadata": {
        "id": "AUobW4D2bfg6"
      },
      "source": [
        "import os\n",
        "import pandas as pd\n",
        "zoo_type = os.path.join(path,'zoo.csv')  \n",
        "class_type = os.path.join(path,'class.csv')\n",
        "zoo_type_df = pd.read_csv(zoo_type)\n",
        "class_type_df = pd.read_csv(class_type)"
      ],
      "execution_count": 55,
      "outputs": []
    },
    {
      "cell_type": "code",
      "metadata": {
        "id": "vkvmQB7t4bQL",
        "outputId": "938516a0-c62b-44e5-e8ca-33e65bf4a7f0",
        "colab": {
          "base_uri": "https://localhost:8080/",
          "height": 196
        }
      },
      "source": [
        "zoo_type_df.head()"
      ],
      "execution_count": 23,
      "outputs": [
        {
          "output_type": "execute_result",
          "data": {
            "text/html": [
              "<div>\n",
              "<style scoped>\n",
              "    .dataframe tbody tr th:only-of-type {\n",
              "        vertical-align: middle;\n",
              "    }\n",
              "\n",
              "    .dataframe tbody tr th {\n",
              "        vertical-align: top;\n",
              "    }\n",
              "\n",
              "    .dataframe thead th {\n",
              "        text-align: right;\n",
              "    }\n",
              "</style>\n",
              "<table border=\"1\" class=\"dataframe\">\n",
              "  <thead>\n",
              "    <tr style=\"text-align: right;\">\n",
              "      <th></th>\n",
              "      <th>animal_name</th>\n",
              "      <th>hair</th>\n",
              "      <th>feathers</th>\n",
              "      <th>eggs</th>\n",
              "      <th>milk</th>\n",
              "      <th>airborne</th>\n",
              "      <th>aquatic</th>\n",
              "      <th>predator</th>\n",
              "      <th>toothed</th>\n",
              "      <th>backbone</th>\n",
              "      <th>breathes</th>\n",
              "      <th>venomous</th>\n",
              "      <th>fins</th>\n",
              "      <th>legs</th>\n",
              "      <th>tail</th>\n",
              "      <th>domestic</th>\n",
              "      <th>catsize</th>\n",
              "      <th>class_type</th>\n",
              "    </tr>\n",
              "  </thead>\n",
              "  <tbody>\n",
              "    <tr>\n",
              "      <th>0</th>\n",
              "      <td>aardvark</td>\n",
              "      <td>1</td>\n",
              "      <td>0</td>\n",
              "      <td>0</td>\n",
              "      <td>1</td>\n",
              "      <td>0</td>\n",
              "      <td>0</td>\n",
              "      <td>1</td>\n",
              "      <td>1</td>\n",
              "      <td>1</td>\n",
              "      <td>1</td>\n",
              "      <td>0</td>\n",
              "      <td>0</td>\n",
              "      <td>4</td>\n",
              "      <td>0</td>\n",
              "      <td>0</td>\n",
              "      <td>1</td>\n",
              "      <td>1</td>\n",
              "    </tr>\n",
              "    <tr>\n",
              "      <th>1</th>\n",
              "      <td>antelope</td>\n",
              "      <td>1</td>\n",
              "      <td>0</td>\n",
              "      <td>0</td>\n",
              "      <td>1</td>\n",
              "      <td>0</td>\n",
              "      <td>0</td>\n",
              "      <td>0</td>\n",
              "      <td>1</td>\n",
              "      <td>1</td>\n",
              "      <td>1</td>\n",
              "      <td>0</td>\n",
              "      <td>0</td>\n",
              "      <td>4</td>\n",
              "      <td>1</td>\n",
              "      <td>0</td>\n",
              "      <td>1</td>\n",
              "      <td>1</td>\n",
              "    </tr>\n",
              "    <tr>\n",
              "      <th>2</th>\n",
              "      <td>bass</td>\n",
              "      <td>0</td>\n",
              "      <td>0</td>\n",
              "      <td>1</td>\n",
              "      <td>0</td>\n",
              "      <td>0</td>\n",
              "      <td>1</td>\n",
              "      <td>1</td>\n",
              "      <td>1</td>\n",
              "      <td>1</td>\n",
              "      <td>0</td>\n",
              "      <td>0</td>\n",
              "      <td>1</td>\n",
              "      <td>0</td>\n",
              "      <td>1</td>\n",
              "      <td>0</td>\n",
              "      <td>0</td>\n",
              "      <td>4</td>\n",
              "    </tr>\n",
              "    <tr>\n",
              "      <th>3</th>\n",
              "      <td>bear</td>\n",
              "      <td>1</td>\n",
              "      <td>0</td>\n",
              "      <td>0</td>\n",
              "      <td>1</td>\n",
              "      <td>0</td>\n",
              "      <td>0</td>\n",
              "      <td>1</td>\n",
              "      <td>1</td>\n",
              "      <td>1</td>\n",
              "      <td>1</td>\n",
              "      <td>0</td>\n",
              "      <td>0</td>\n",
              "      <td>4</td>\n",
              "      <td>0</td>\n",
              "      <td>0</td>\n",
              "      <td>1</td>\n",
              "      <td>1</td>\n",
              "    </tr>\n",
              "    <tr>\n",
              "      <th>4</th>\n",
              "      <td>boar</td>\n",
              "      <td>1</td>\n",
              "      <td>0</td>\n",
              "      <td>0</td>\n",
              "      <td>1</td>\n",
              "      <td>0</td>\n",
              "      <td>0</td>\n",
              "      <td>1</td>\n",
              "      <td>1</td>\n",
              "      <td>1</td>\n",
              "      <td>1</td>\n",
              "      <td>0</td>\n",
              "      <td>0</td>\n",
              "      <td>4</td>\n",
              "      <td>1</td>\n",
              "      <td>0</td>\n",
              "      <td>1</td>\n",
              "      <td>1</td>\n",
              "    </tr>\n",
              "  </tbody>\n",
              "</table>\n",
              "</div>"
            ],
            "text/plain": [
              "  animal_name  hair  feathers  eggs  ...  tail  domestic  catsize  class_type\n",
              "0    aardvark     1         0     0  ...     0         0        1           1\n",
              "1    antelope     1         0     0  ...     1         0        1           1\n",
              "2        bass     0         0     1  ...     1         0        0           4\n",
              "3        bear     1         0     0  ...     0         0        1           1\n",
              "4        boar     1         0     0  ...     1         0        1           1\n",
              "\n",
              "[5 rows x 18 columns]"
            ]
          },
          "metadata": {
            "tags": []
          },
          "execution_count": 23
        }
      ]
    },
    {
      "cell_type": "code",
      "metadata": {
        "id": "GHSV6ZiL6vaL",
        "colab": {
          "base_uri": "https://localhost:8080/",
          "height": 196
        },
        "outputId": "fd6e671b-4bcc-4e9b-86ab-7102c328c1a9"
      },
      "source": [
        "class_type_df.head()"
      ],
      "execution_count": 24,
      "outputs": [
        {
          "output_type": "execute_result",
          "data": {
            "text/html": [
              "<div>\n",
              "<style scoped>\n",
              "    .dataframe tbody tr th:only-of-type {\n",
              "        vertical-align: middle;\n",
              "    }\n",
              "\n",
              "    .dataframe tbody tr th {\n",
              "        vertical-align: top;\n",
              "    }\n",
              "\n",
              "    .dataframe thead th {\n",
              "        text-align: right;\n",
              "    }\n",
              "</style>\n",
              "<table border=\"1\" class=\"dataframe\">\n",
              "  <thead>\n",
              "    <tr style=\"text-align: right;\">\n",
              "      <th></th>\n",
              "      <th>Class_Number</th>\n",
              "      <th>Number_Of_Animal_Species_In_Class</th>\n",
              "      <th>Class_Type</th>\n",
              "      <th>Animal_Name</th>\n",
              "    </tr>\n",
              "  </thead>\n",
              "  <tbody>\n",
              "    <tr>\n",
              "      <th>0</th>\n",
              "      <td>1</td>\n",
              "      <td>41</td>\n",
              "      <td>Mammal</td>\n",
              "      <td>aardvark, antelope, bear, boar, buffalo, calf,...</td>\n",
              "    </tr>\n",
              "    <tr>\n",
              "      <th>1</th>\n",
              "      <td>2</td>\n",
              "      <td>20</td>\n",
              "      <td>Bird</td>\n",
              "      <td>chicken, crow, dove, duck, flamingo, gull, haw...</td>\n",
              "    </tr>\n",
              "    <tr>\n",
              "      <th>2</th>\n",
              "      <td>3</td>\n",
              "      <td>5</td>\n",
              "      <td>Reptile</td>\n",
              "      <td>pitviper, seasnake, slowworm, tortoise, tuatara</td>\n",
              "    </tr>\n",
              "    <tr>\n",
              "      <th>3</th>\n",
              "      <td>4</td>\n",
              "      <td>13</td>\n",
              "      <td>Fish</td>\n",
              "      <td>bass, carp, catfish, chub, dogfish, haddock, h...</td>\n",
              "    </tr>\n",
              "    <tr>\n",
              "      <th>4</th>\n",
              "      <td>5</td>\n",
              "      <td>4</td>\n",
              "      <td>Amphibian</td>\n",
              "      <td>frog, frog, newt, toad</td>\n",
              "    </tr>\n",
              "  </tbody>\n",
              "</table>\n",
              "</div>"
            ],
            "text/plain": [
              "   Class_Number  ...                                        Animal_Name\n",
              "0             1  ...  aardvark, antelope, bear, boar, buffalo, calf,...\n",
              "1             2  ...  chicken, crow, dove, duck, flamingo, gull, haw...\n",
              "2             3  ...    pitviper, seasnake, slowworm, tortoise, tuatara\n",
              "3             4  ...  bass, carp, catfish, chub, dogfish, haddock, h...\n",
              "4             5  ...                             frog, frog, newt, toad\n",
              "\n",
              "[5 rows x 4 columns]"
            ]
          },
          "metadata": {
            "tags": []
          },
          "execution_count": 24
        }
      ]
    },
    {
      "cell_type": "markdown",
      "metadata": {
        "id": "FGocGdyHDoaE"
      },
      "source": [
        "## แบบในคลิป"
      ]
    },
    {
      "cell_type": "code",
      "metadata": {
        "id": "huxSxQL1DXOq",
        "outputId": "4583ba36-7925-47d0-dbc0-4acac438a240",
        "colab": {
          "base_uri": "https://localhost:8080/",
          "height": 196
        }
      },
      "source": [
        "zoo_asso2 = pd.read_csv(zoo_type,header = None)\n",
        "zoo_asso2.head()"
      ],
      "execution_count": 66,
      "outputs": [
        {
          "output_type": "execute_result",
          "data": {
            "text/html": [
              "<div>\n",
              "<style scoped>\n",
              "    .dataframe tbody tr th:only-of-type {\n",
              "        vertical-align: middle;\n",
              "    }\n",
              "\n",
              "    .dataframe tbody tr th {\n",
              "        vertical-align: top;\n",
              "    }\n",
              "\n",
              "    .dataframe thead th {\n",
              "        text-align: right;\n",
              "    }\n",
              "</style>\n",
              "<table border=\"1\" class=\"dataframe\">\n",
              "  <thead>\n",
              "    <tr style=\"text-align: right;\">\n",
              "      <th></th>\n",
              "      <th>0</th>\n",
              "      <th>1</th>\n",
              "      <th>2</th>\n",
              "      <th>3</th>\n",
              "      <th>4</th>\n",
              "      <th>5</th>\n",
              "      <th>6</th>\n",
              "      <th>7</th>\n",
              "      <th>8</th>\n",
              "      <th>9</th>\n",
              "      <th>10</th>\n",
              "      <th>11</th>\n",
              "      <th>12</th>\n",
              "      <th>13</th>\n",
              "      <th>14</th>\n",
              "      <th>15</th>\n",
              "      <th>16</th>\n",
              "      <th>17</th>\n",
              "    </tr>\n",
              "  </thead>\n",
              "  <tbody>\n",
              "    <tr>\n",
              "      <th>0</th>\n",
              "      <td>animal_name</td>\n",
              "      <td>hair</td>\n",
              "      <td>feathers</td>\n",
              "      <td>eggs</td>\n",
              "      <td>milk</td>\n",
              "      <td>airborne</td>\n",
              "      <td>aquatic</td>\n",
              "      <td>predator</td>\n",
              "      <td>toothed</td>\n",
              "      <td>backbone</td>\n",
              "      <td>breathes</td>\n",
              "      <td>venomous</td>\n",
              "      <td>fins</td>\n",
              "      <td>legs</td>\n",
              "      <td>tail</td>\n",
              "      <td>domestic</td>\n",
              "      <td>catsize</td>\n",
              "      <td>class_type</td>\n",
              "    </tr>\n",
              "    <tr>\n",
              "      <th>1</th>\n",
              "      <td>aardvark</td>\n",
              "      <td>1</td>\n",
              "      <td>0</td>\n",
              "      <td>0</td>\n",
              "      <td>1</td>\n",
              "      <td>0</td>\n",
              "      <td>0</td>\n",
              "      <td>1</td>\n",
              "      <td>1</td>\n",
              "      <td>1</td>\n",
              "      <td>1</td>\n",
              "      <td>0</td>\n",
              "      <td>0</td>\n",
              "      <td>4</td>\n",
              "      <td>0</td>\n",
              "      <td>0</td>\n",
              "      <td>1</td>\n",
              "      <td>1</td>\n",
              "    </tr>\n",
              "    <tr>\n",
              "      <th>2</th>\n",
              "      <td>antelope</td>\n",
              "      <td>1</td>\n",
              "      <td>0</td>\n",
              "      <td>0</td>\n",
              "      <td>1</td>\n",
              "      <td>0</td>\n",
              "      <td>0</td>\n",
              "      <td>0</td>\n",
              "      <td>1</td>\n",
              "      <td>1</td>\n",
              "      <td>1</td>\n",
              "      <td>0</td>\n",
              "      <td>0</td>\n",
              "      <td>4</td>\n",
              "      <td>1</td>\n",
              "      <td>0</td>\n",
              "      <td>1</td>\n",
              "      <td>1</td>\n",
              "    </tr>\n",
              "    <tr>\n",
              "      <th>3</th>\n",
              "      <td>bass</td>\n",
              "      <td>0</td>\n",
              "      <td>0</td>\n",
              "      <td>1</td>\n",
              "      <td>0</td>\n",
              "      <td>0</td>\n",
              "      <td>1</td>\n",
              "      <td>1</td>\n",
              "      <td>1</td>\n",
              "      <td>1</td>\n",
              "      <td>0</td>\n",
              "      <td>0</td>\n",
              "      <td>1</td>\n",
              "      <td>0</td>\n",
              "      <td>1</td>\n",
              "      <td>0</td>\n",
              "      <td>0</td>\n",
              "      <td>4</td>\n",
              "    </tr>\n",
              "    <tr>\n",
              "      <th>4</th>\n",
              "      <td>bear</td>\n",
              "      <td>1</td>\n",
              "      <td>0</td>\n",
              "      <td>0</td>\n",
              "      <td>1</td>\n",
              "      <td>0</td>\n",
              "      <td>0</td>\n",
              "      <td>1</td>\n",
              "      <td>1</td>\n",
              "      <td>1</td>\n",
              "      <td>1</td>\n",
              "      <td>0</td>\n",
              "      <td>0</td>\n",
              "      <td>4</td>\n",
              "      <td>0</td>\n",
              "      <td>0</td>\n",
              "      <td>1</td>\n",
              "      <td>1</td>\n",
              "    </tr>\n",
              "  </tbody>\n",
              "</table>\n",
              "</div>"
            ],
            "text/plain": [
              "            0     1         2     3   ...    14        15       16          17\n",
              "0  animal_name  hair  feathers  eggs  ...  tail  domestic  catsize  class_type\n",
              "1     aardvark     1         0     0  ...     0         0        1           1\n",
              "2     antelope     1         0     0  ...     1         0        1           1\n",
              "3         bass     0         0     1  ...     1         0        0           4\n",
              "4         bear     1         0     0  ...     0         0        1           1\n",
              "\n",
              "[5 rows x 18 columns]"
            ]
          },
          "metadata": {
            "tags": []
          },
          "execution_count": 66
        }
      ]
    },
    {
      "cell_type": "code",
      "metadata": {
        "id": "Nflzu7le51p4",
        "outputId": "cc77c9d9-7b35-44f2-9312-2a8b94099c24",
        "colab": {
          "base_uri": "https://localhost:8080/"
        }
      },
      "source": [
        "zoo_asso2.shape"
      ],
      "execution_count": 69,
      "outputs": [
        {
          "output_type": "execute_result",
          "data": {
            "text/plain": [
              "(102, 18)"
            ]
          },
          "metadata": {
            "tags": []
          },
          "execution_count": 69
        }
      ]
    },
    {
      "cell_type": "code",
      "metadata": {
        "id": "6hkS4IbV6AG3",
        "outputId": "9cb6f21b-9e71-4974-8b06-6501951b9404",
        "colab": {
          "base_uri": "https://localhost:8080/"
        }
      },
      "source": [
        "!pip install apyori\n",
        "import numpy as np\n",
        "import matplotlib.pyplot as plt\n",
        "from apyori import apriori"
      ],
      "execution_count": 28,
      "outputs": [
        {
          "output_type": "stream",
          "text": [
            "Collecting apyori\n",
            "  Downloading https://files.pythonhosted.org/packages/5e/62/5ffde5c473ea4b033490617ec5caa80d59804875ad3c3c57c0976533a21a/apyori-1.1.2.tar.gz\n",
            "Building wheels for collected packages: apyori\n",
            "  Building wheel for apyori (setup.py) ... \u001b[?25l\u001b[?25hdone\n",
            "  Created wheel for apyori: filename=apyori-1.1.2-cp36-none-any.whl size=5975 sha256=ae46b83e0b64b92b64a5221f05f3128abbb2b189342e995a8444a18a09e49f1e\n",
            "  Stored in directory: /root/.cache/pip/wheels/5d/92/bb/474bbadbc8c0062b9eb168f69982a0443263f8ab1711a8cad0\n",
            "Successfully built apyori\n",
            "Installing collected packages: apyori\n",
            "Successfully installed apyori-1.1.2\n"
          ],
          "name": "stdout"
        }
      ]
    },
    {
      "cell_type": "code",
      "metadata": {
        "id": "ityD8Q4c9W7A"
      },
      "source": [
        "num_records = len(zoo_asso)"
      ],
      "execution_count": 70,
      "outputs": []
    },
    {
      "cell_type": "code",
      "metadata": {
        "id": "bZCIJFuR9bit"
      },
      "source": [
        "records = []\n",
        "for i in range(0,num_records):\n",
        "\n",
        "  records.append([str(zoo_asso.values[i,j])  for j in range(0,17)])"
      ],
      "execution_count": 72,
      "outputs": []
    },
    {
      "cell_type": "code",
      "metadata": {
        "id": "75N3bcQtB-p1"
      },
      "source": [
        "association_rules = apriori(records, min_support=0.045, min_confidence=0.2)\n",
        "association_results = list(association_rules)"
      ],
      "execution_count": 73,
      "outputs": []
    },
    {
      "cell_type": "code",
      "metadata": {
        "id": "BDQe2o0JBYvJ",
        "outputId": "d52bade8-a078-441f-8e4b-373d71dd3192",
        "colab": {
          "base_uri": "https://localhost:8080/"
        }
      },
      "source": [
        "association_results"
      ],
      "execution_count": 74,
      "outputs": [
        {
          "output_type": "execute_result",
          "data": {
            "text/plain": [
              "[RelationRecord(items=frozenset({'0'}), support=1.0, ordered_statistics=[OrderedStatistic(items_base=frozenset(), items_add=frozenset({'0'}), confidence=1.0, lift=1.0)]),\n",
              " RelationRecord(items=frozenset({'1'}), support=1.0, ordered_statistics=[OrderedStatistic(items_base=frozenset(), items_add=frozenset({'1'}), confidence=1.0, lift=1.0)]),\n",
              " RelationRecord(items=frozenset({'2'}), support=0.26732673267326734, ordered_statistics=[OrderedStatistic(items_base=frozenset(), items_add=frozenset({'2'}), confidence=0.26732673267326734, lift=1.0)]),\n",
              " RelationRecord(items=frozenset({'4'}), support=0.37623762376237624, ordered_statistics=[OrderedStatistic(items_base=frozenset(), items_add=frozenset({'4'}), confidence=0.37623762376237624, lift=1.0)]),\n",
              " RelationRecord(items=frozenset({'1', '0'}), support=1.0, ordered_statistics=[OrderedStatistic(items_base=frozenset(), items_add=frozenset({'1', '0'}), confidence=1.0, lift=1.0), OrderedStatistic(items_base=frozenset({'0'}), items_add=frozenset({'1'}), confidence=1.0, lift=1.0), OrderedStatistic(items_base=frozenset({'1'}), items_add=frozenset({'0'}), confidence=1.0, lift=1.0)]),\n",
              " RelationRecord(items=frozenset({'2', '0'}), support=0.26732673267326734, ordered_statistics=[OrderedStatistic(items_base=frozenset(), items_add=frozenset({'2', '0'}), confidence=0.26732673267326734, lift=1.0), OrderedStatistic(items_base=frozenset({'0'}), items_add=frozenset({'2'}), confidence=0.26732673267326734, lift=1.0), OrderedStatistic(items_base=frozenset({'2'}), items_add=frozenset({'0'}), confidence=1.0, lift=1.0)]),\n",
              " RelationRecord(items=frozenset({'4', '0'}), support=0.37623762376237624, ordered_statistics=[OrderedStatistic(items_base=frozenset(), items_add=frozenset({'4', '0'}), confidence=0.37623762376237624, lift=1.0), OrderedStatistic(items_base=frozenset({'0'}), items_add=frozenset({'4'}), confidence=0.37623762376237624, lift=1.0), OrderedStatistic(items_base=frozenset({'4'}), items_add=frozenset({'0'}), confidence=1.0, lift=1.0)]),\n",
              " RelationRecord(items=frozenset({'0', '6'}), support=0.09900990099009901, ordered_statistics=[OrderedStatistic(items_base=frozenset({'6'}), items_add=frozenset({'0'}), confidence=1.0, lift=1.0)]),\n",
              " RelationRecord(items=frozenset({'2', '1'}), support=0.26732673267326734, ordered_statistics=[OrderedStatistic(items_base=frozenset(), items_add=frozenset({'2', '1'}), confidence=0.26732673267326734, lift=1.0), OrderedStatistic(items_base=frozenset({'1'}), items_add=frozenset({'2'}), confidence=0.26732673267326734, lift=1.0), OrderedStatistic(items_base=frozenset({'2'}), items_add=frozenset({'1'}), confidence=1.0, lift=1.0)]),\n",
              " RelationRecord(items=frozenset({'4', '1'}), support=0.37623762376237624, ordered_statistics=[OrderedStatistic(items_base=frozenset(), items_add=frozenset({'1', '4'}), confidence=0.37623762376237624, lift=1.0), OrderedStatistic(items_base=frozenset({'1'}), items_add=frozenset({'4'}), confidence=0.37623762376237624, lift=1.0), OrderedStatistic(items_base=frozenset({'4'}), items_add=frozenset({'1'}), confidence=1.0, lift=1.0)]),\n",
              " RelationRecord(items=frozenset({'1', '6'}), support=0.09900990099009901, ordered_statistics=[OrderedStatistic(items_base=frozenset({'6'}), items_add=frozenset({'1'}), confidence=1.0, lift=1.0)]),\n",
              " RelationRecord(items=frozenset({'1', '2', '0'}), support=0.26732673267326734, ordered_statistics=[OrderedStatistic(items_base=frozenset(), items_add=frozenset({'2', '1', '0'}), confidence=0.26732673267326734, lift=1.0), OrderedStatistic(items_base=frozenset({'0'}), items_add=frozenset({'2', '1'}), confidence=0.26732673267326734, lift=1.0), OrderedStatistic(items_base=frozenset({'1'}), items_add=frozenset({'2', '0'}), confidence=0.26732673267326734, lift=1.0), OrderedStatistic(items_base=frozenset({'2'}), items_add=frozenset({'1', '0'}), confidence=1.0, lift=1.0), OrderedStatistic(items_base=frozenset({'1', '0'}), items_add=frozenset({'2'}), confidence=0.26732673267326734, lift=1.0), OrderedStatistic(items_base=frozenset({'2', '0'}), items_add=frozenset({'1'}), confidence=1.0, lift=1.0), OrderedStatistic(items_base=frozenset({'2', '1'}), items_add=frozenset({'0'}), confidence=1.0, lift=1.0)]),\n",
              " RelationRecord(items=frozenset({'1', '4', '0'}), support=0.37623762376237624, ordered_statistics=[OrderedStatistic(items_base=frozenset(), items_add=frozenset({'4', '1', '0'}), confidence=0.37623762376237624, lift=1.0), OrderedStatistic(items_base=frozenset({'0'}), items_add=frozenset({'4', '1'}), confidence=0.37623762376237624, lift=1.0), OrderedStatistic(items_base=frozenset({'1'}), items_add=frozenset({'4', '0'}), confidence=0.37623762376237624, lift=1.0), OrderedStatistic(items_base=frozenset({'4'}), items_add=frozenset({'1', '0'}), confidence=1.0, lift=1.0), OrderedStatistic(items_base=frozenset({'1', '0'}), items_add=frozenset({'4'}), confidence=0.37623762376237624, lift=1.0), OrderedStatistic(items_base=frozenset({'4', '0'}), items_add=frozenset({'1'}), confidence=1.0, lift=1.0), OrderedStatistic(items_base=frozenset({'4', '1'}), items_add=frozenset({'0'}), confidence=1.0, lift=1.0)]),\n",
              " RelationRecord(items=frozenset({'1', '0', '6'}), support=0.09900990099009901, ordered_statistics=[OrderedStatistic(items_base=frozenset({'6'}), items_add=frozenset({'1', '0'}), confidence=1.0, lift=1.0), OrderedStatistic(items_base=frozenset({'0', '6'}), items_add=frozenset({'1'}), confidence=1.0, lift=1.0), OrderedStatistic(items_base=frozenset({'1', '6'}), items_add=frozenset({'0'}), confidence=1.0, lift=1.0)])]"
            ]
          },
          "metadata": {
            "tags": []
          },
          "execution_count": 74
        }
      ]
    },
    {
      "cell_type": "code",
      "metadata": {
        "id": "JekZk8q1_bZf"
      },
      "source": [
        "print(len(association_rules)) #to check the Total Number of Rules mined"
      ],
      "execution_count": null,
      "outputs": []
    },
    {
      "cell_type": "code",
      "metadata": {
        "id": "j_iOeY3__mbO"
      },
      "source": [
        "print(association_rules[0])  # to print the first item the association_rules list to see the first rule"
      ],
      "execution_count": null,
      "outputs": []
    },
    {
      "cell_type": "code",
      "metadata": {
        "id": "y0AzLrMK9bfX"
      },
      "source": [
        ""
      ],
      "execution_count": null,
      "outputs": []
    },
    {
      "cell_type": "code",
      "metadata": {
        "id": "vHHZTO215__K"
      },
      "source": [
        ""
      ],
      "execution_count": null,
      "outputs": []
    },
    {
      "cell_type": "markdown",
      "metadata": {
        "id": "cyEtca4NEDyV"
      },
      "source": [
        "## แบบเปลี่ยนข้อมูล"
      ]
    },
    {
      "cell_type": "code",
      "metadata": {
        "id": "PzPOrZ_D5_8l"
      },
      "source": [
        "zoo_type_df = pd.read_csv(zoo_type)"
      ],
      "execution_count": 75,
      "outputs": []
    },
    {
      "cell_type": "code",
      "metadata": {
        "id": "WeWLEDI8ESFD"
      },
      "source": [
        "zoo_type_df['hair'].replace([1, 0] , [\"hair\",\" \"], inplace = True)\n",
        "zoo_type_df['feathers'].replace([1, 0] , [\"feathers\", \" \"], inplace = True)\n",
        "zoo_type_df['feathers'].replace([1, 0] , [\"feathers\", \" \"], inplace = True)\n",
        "zoo_type_df['eggs'].replace([1, 0] , [\"eggs\",\" \"], inplace = True)\n",
        "zoo_type_df['milk'].replace([1, 0] , [\"milk\", \" \"], inplace = True)\n",
        "zoo_type_df['airborne'].replace([1, 0] , [\"airborne\", \" \"], inplace = True)\n",
        "zoo_type_df['aquatic'].replace([1, 0] , [\"aquatic\", \" \"], inplace = True)\n",
        "zoo_type_df['predator'].replace([1, 0] , [\"predator\", \" \"], inplace = True)\n",
        "zoo_type_df['toothed'].replace([1, 0] , [\"toothed\", \" \"], inplace = True)\n",
        "zoo_type_df['backbone'].replace([1, 0] , [\"backbone\", \" \"], inplace = True)\n",
        "zoo_type_df['breathes'].replace([1, 0] , [\"breathes\", \" \"], inplace = True)\n",
        "zoo_type_df['venomous'].replace([1, 0] , [\"venomous\", \" \"], inplace = True)\n",
        "zoo_type_df['fins'].replace([1, 0] , [\"fins\", \" \"], inplace = True)\n",
        "zoo_type_df['tail'].replace([1, 0] , [\"tail\", \" \"], inplace = True)\n",
        "zoo_type_df['domestic'].replace([1, 0] , [\"domestic\", \" \"], inplace = True)\n",
        "zoo_type_df['catsize'].replace([1, 0] , [\"catsize\", \" \"], inplace = True)\n",
        "zoo_type_df['legs'].replace([0, 2, 4, 6] , [\" \", \"2legs\", \"4legs\", \"6legs\"], inplace = True)"
      ],
      "execution_count": 76,
      "outputs": []
    },
    {
      "cell_type": "code",
      "metadata": {
        "id": "UGD1-FMYESCx",
        "outputId": "ccd88b76-91f5-48bc-cb49-412426574ed9",
        "colab": {
          "base_uri": "https://localhost:8080/",
          "height": 404
        }
      },
      "source": [
        "zoo_type_df"
      ],
      "execution_count": 77,
      "outputs": [
        {
          "output_type": "execute_result",
          "data": {
            "text/html": [
              "<div>\n",
              "<style scoped>\n",
              "    .dataframe tbody tr th:only-of-type {\n",
              "        vertical-align: middle;\n",
              "    }\n",
              "\n",
              "    .dataframe tbody tr th {\n",
              "        vertical-align: top;\n",
              "    }\n",
              "\n",
              "    .dataframe thead th {\n",
              "        text-align: right;\n",
              "    }\n",
              "</style>\n",
              "<table border=\"1\" class=\"dataframe\">\n",
              "  <thead>\n",
              "    <tr style=\"text-align: right;\">\n",
              "      <th></th>\n",
              "      <th>animal_name</th>\n",
              "      <th>hair</th>\n",
              "      <th>feathers</th>\n",
              "      <th>eggs</th>\n",
              "      <th>milk</th>\n",
              "      <th>airborne</th>\n",
              "      <th>aquatic</th>\n",
              "      <th>predator</th>\n",
              "      <th>toothed</th>\n",
              "      <th>backbone</th>\n",
              "      <th>breathes</th>\n",
              "      <th>venomous</th>\n",
              "      <th>fins</th>\n",
              "      <th>legs</th>\n",
              "      <th>tail</th>\n",
              "      <th>domestic</th>\n",
              "      <th>catsize</th>\n",
              "      <th>class_type</th>\n",
              "    </tr>\n",
              "  </thead>\n",
              "  <tbody>\n",
              "    <tr>\n",
              "      <th>0</th>\n",
              "      <td>aardvark</td>\n",
              "      <td>hair</td>\n",
              "      <td></td>\n",
              "      <td></td>\n",
              "      <td>milk</td>\n",
              "      <td></td>\n",
              "      <td></td>\n",
              "      <td>predator</td>\n",
              "      <td>toothed</td>\n",
              "      <td>backbone</td>\n",
              "      <td>breathes</td>\n",
              "      <td></td>\n",
              "      <td></td>\n",
              "      <td>4legs</td>\n",
              "      <td></td>\n",
              "      <td></td>\n",
              "      <td>catsize</td>\n",
              "      <td>1</td>\n",
              "    </tr>\n",
              "    <tr>\n",
              "      <th>1</th>\n",
              "      <td>antelope</td>\n",
              "      <td>hair</td>\n",
              "      <td></td>\n",
              "      <td></td>\n",
              "      <td>milk</td>\n",
              "      <td></td>\n",
              "      <td></td>\n",
              "      <td></td>\n",
              "      <td>toothed</td>\n",
              "      <td>backbone</td>\n",
              "      <td>breathes</td>\n",
              "      <td></td>\n",
              "      <td></td>\n",
              "      <td>4legs</td>\n",
              "      <td>tail</td>\n",
              "      <td></td>\n",
              "      <td>catsize</td>\n",
              "      <td>1</td>\n",
              "    </tr>\n",
              "    <tr>\n",
              "      <th>2</th>\n",
              "      <td>bass</td>\n",
              "      <td></td>\n",
              "      <td></td>\n",
              "      <td>eggs</td>\n",
              "      <td></td>\n",
              "      <td></td>\n",
              "      <td>aquatic</td>\n",
              "      <td>predator</td>\n",
              "      <td>toothed</td>\n",
              "      <td>backbone</td>\n",
              "      <td></td>\n",
              "      <td></td>\n",
              "      <td>fins</td>\n",
              "      <td></td>\n",
              "      <td>tail</td>\n",
              "      <td></td>\n",
              "      <td></td>\n",
              "      <td>4</td>\n",
              "    </tr>\n",
              "    <tr>\n",
              "      <th>3</th>\n",
              "      <td>bear</td>\n",
              "      <td>hair</td>\n",
              "      <td></td>\n",
              "      <td></td>\n",
              "      <td>milk</td>\n",
              "      <td></td>\n",
              "      <td></td>\n",
              "      <td>predator</td>\n",
              "      <td>toothed</td>\n",
              "      <td>backbone</td>\n",
              "      <td>breathes</td>\n",
              "      <td></td>\n",
              "      <td></td>\n",
              "      <td>4legs</td>\n",
              "      <td></td>\n",
              "      <td></td>\n",
              "      <td>catsize</td>\n",
              "      <td>1</td>\n",
              "    </tr>\n",
              "    <tr>\n",
              "      <th>4</th>\n",
              "      <td>boar</td>\n",
              "      <td>hair</td>\n",
              "      <td></td>\n",
              "      <td></td>\n",
              "      <td>milk</td>\n",
              "      <td></td>\n",
              "      <td></td>\n",
              "      <td>predator</td>\n",
              "      <td>toothed</td>\n",
              "      <td>backbone</td>\n",
              "      <td>breathes</td>\n",
              "      <td></td>\n",
              "      <td></td>\n",
              "      <td>4legs</td>\n",
              "      <td>tail</td>\n",
              "      <td></td>\n",
              "      <td>catsize</td>\n",
              "      <td>1</td>\n",
              "    </tr>\n",
              "    <tr>\n",
              "      <th>...</th>\n",
              "      <td>...</td>\n",
              "      <td>...</td>\n",
              "      <td>...</td>\n",
              "      <td>...</td>\n",
              "      <td>...</td>\n",
              "      <td>...</td>\n",
              "      <td>...</td>\n",
              "      <td>...</td>\n",
              "      <td>...</td>\n",
              "      <td>...</td>\n",
              "      <td>...</td>\n",
              "      <td>...</td>\n",
              "      <td>...</td>\n",
              "      <td>...</td>\n",
              "      <td>...</td>\n",
              "      <td>...</td>\n",
              "      <td>...</td>\n",
              "      <td>...</td>\n",
              "    </tr>\n",
              "    <tr>\n",
              "      <th>96</th>\n",
              "      <td>wallaby</td>\n",
              "      <td>hair</td>\n",
              "      <td></td>\n",
              "      <td></td>\n",
              "      <td>milk</td>\n",
              "      <td></td>\n",
              "      <td></td>\n",
              "      <td></td>\n",
              "      <td>toothed</td>\n",
              "      <td>backbone</td>\n",
              "      <td>breathes</td>\n",
              "      <td></td>\n",
              "      <td></td>\n",
              "      <td>2legs</td>\n",
              "      <td>tail</td>\n",
              "      <td></td>\n",
              "      <td>catsize</td>\n",
              "      <td>1</td>\n",
              "    </tr>\n",
              "    <tr>\n",
              "      <th>97</th>\n",
              "      <td>wasp</td>\n",
              "      <td>hair</td>\n",
              "      <td></td>\n",
              "      <td>eggs</td>\n",
              "      <td></td>\n",
              "      <td>airborne</td>\n",
              "      <td></td>\n",
              "      <td></td>\n",
              "      <td></td>\n",
              "      <td></td>\n",
              "      <td>breathes</td>\n",
              "      <td>venomous</td>\n",
              "      <td></td>\n",
              "      <td>6legs</td>\n",
              "      <td></td>\n",
              "      <td></td>\n",
              "      <td></td>\n",
              "      <td>6</td>\n",
              "    </tr>\n",
              "    <tr>\n",
              "      <th>98</th>\n",
              "      <td>wolf</td>\n",
              "      <td>hair</td>\n",
              "      <td></td>\n",
              "      <td></td>\n",
              "      <td>milk</td>\n",
              "      <td></td>\n",
              "      <td></td>\n",
              "      <td>predator</td>\n",
              "      <td>toothed</td>\n",
              "      <td>backbone</td>\n",
              "      <td>breathes</td>\n",
              "      <td></td>\n",
              "      <td></td>\n",
              "      <td>4legs</td>\n",
              "      <td>tail</td>\n",
              "      <td></td>\n",
              "      <td>catsize</td>\n",
              "      <td>1</td>\n",
              "    </tr>\n",
              "    <tr>\n",
              "      <th>99</th>\n",
              "      <td>worm</td>\n",
              "      <td></td>\n",
              "      <td></td>\n",
              "      <td>eggs</td>\n",
              "      <td></td>\n",
              "      <td></td>\n",
              "      <td></td>\n",
              "      <td></td>\n",
              "      <td></td>\n",
              "      <td></td>\n",
              "      <td>breathes</td>\n",
              "      <td></td>\n",
              "      <td></td>\n",
              "      <td></td>\n",
              "      <td></td>\n",
              "      <td></td>\n",
              "      <td></td>\n",
              "      <td>7</td>\n",
              "    </tr>\n",
              "    <tr>\n",
              "      <th>100</th>\n",
              "      <td>wren</td>\n",
              "      <td></td>\n",
              "      <td>feathers</td>\n",
              "      <td>eggs</td>\n",
              "      <td></td>\n",
              "      <td>airborne</td>\n",
              "      <td></td>\n",
              "      <td></td>\n",
              "      <td></td>\n",
              "      <td>backbone</td>\n",
              "      <td>breathes</td>\n",
              "      <td></td>\n",
              "      <td></td>\n",
              "      <td>2legs</td>\n",
              "      <td>tail</td>\n",
              "      <td></td>\n",
              "      <td></td>\n",
              "      <td>2</td>\n",
              "    </tr>\n",
              "  </tbody>\n",
              "</table>\n",
              "<p>101 rows × 18 columns</p>\n",
              "</div>"
            ],
            "text/plain": [
              "    animal_name  hair  feathers  eggs  ...  tail domestic  catsize class_type\n",
              "0      aardvark  hair                  ...                 catsize          1\n",
              "1      antelope  hair                  ...  tail           catsize          1\n",
              "2          bass                  eggs  ...  tail                            4\n",
              "3          bear  hair                  ...                 catsize          1\n",
              "4          boar  hair                  ...  tail           catsize          1\n",
              "..          ...   ...       ...   ...  ...   ...      ...      ...        ...\n",
              "96      wallaby  hair                  ...  tail           catsize          1\n",
              "97         wasp  hair            eggs  ...                                  6\n",
              "98         wolf  hair                  ...  tail           catsize          1\n",
              "99         worm                  eggs  ...                                  7\n",
              "100        wren        feathers  eggs  ...  tail                            2\n",
              "\n",
              "[101 rows x 18 columns]"
            ]
          },
          "metadata": {
            "tags": []
          },
          "execution_count": 77
        }
      ]
    },
    {
      "cell_type": "code",
      "metadata": {
        "id": "c_9tjocUER_s"
      },
      "source": [
        "records = []\n",
        "for i in range(0, len(zoo_type_df)):\n",
        "\n",
        "  records.append([str(zoo_type_df.values[i,j])  for j in range(0,17)])"
      ],
      "execution_count": 78,
      "outputs": []
    },
    {
      "cell_type": "code",
      "metadata": {
        "id": "CL969XyiE6Un",
        "outputId": "f634f95b-b930-4115-f02d-104b8767f1dc",
        "colab": {
          "base_uri": "https://localhost:8080/"
        }
      },
      "source": [
        "association_rules = apriori(records, min_support=0.45, min_confidence=0.2)\n",
        "association_results = list(association_rules)\n",
        "association_results"
      ],
      "execution_count": 83,
      "outputs": [
        {
          "output_type": "execute_result",
          "data": {
            "text/plain": [
              "[RelationRecord(items=frozenset({' '}), support=1.0, ordered_statistics=[OrderedStatistic(items_base=frozenset(), items_add=frozenset({' '}), confidence=1.0, lift=1.0)]),\n",
              " RelationRecord(items=frozenset({'backbone'}), support=0.8217821782178217, ordered_statistics=[OrderedStatistic(items_base=frozenset(), items_add=frozenset({'backbone'}), confidence=0.8217821782178217, lift=1.0)]),\n",
              " RelationRecord(items=frozenset({'breathes'}), support=0.7920792079207921, ordered_statistics=[OrderedStatistic(items_base=frozenset(), items_add=frozenset({'breathes'}), confidence=0.7920792079207921, lift=1.0)]),\n",
              " RelationRecord(items=frozenset({'eggs'}), support=0.5841584158415841, ordered_statistics=[OrderedStatistic(items_base=frozenset(), items_add=frozenset({'eggs'}), confidence=0.5841584158415841, lift=1.0)]),\n",
              " RelationRecord(items=frozenset({'predator'}), support=0.5544554455445545, ordered_statistics=[OrderedStatistic(items_base=frozenset(), items_add=frozenset({'predator'}), confidence=0.5544554455445545, lift=1.0)]),\n",
              " RelationRecord(items=frozenset({'tail'}), support=0.7425742574257426, ordered_statistics=[OrderedStatistic(items_base=frozenset(), items_add=frozenset({'tail'}), confidence=0.7425742574257426, lift=1.0)]),\n",
              " RelationRecord(items=frozenset({'toothed'}), support=0.6039603960396039, ordered_statistics=[OrderedStatistic(items_base=frozenset(), items_add=frozenset({'toothed'}), confidence=0.6039603960396039, lift=1.0)]),\n",
              " RelationRecord(items=frozenset({' ', 'backbone'}), support=0.8217821782178217, ordered_statistics=[OrderedStatistic(items_base=frozenset(), items_add=frozenset({' ', 'backbone'}), confidence=0.8217821782178217, lift=1.0), OrderedStatistic(items_base=frozenset({' '}), items_add=frozenset({'backbone'}), confidence=0.8217821782178217, lift=1.0), OrderedStatistic(items_base=frozenset({'backbone'}), items_add=frozenset({' '}), confidence=1.0, lift=1.0)]),\n",
              " RelationRecord(items=frozenset({' ', 'breathes'}), support=0.7920792079207921, ordered_statistics=[OrderedStatistic(items_base=frozenset(), items_add=frozenset({' ', 'breathes'}), confidence=0.7920792079207921, lift=1.0), OrderedStatistic(items_base=frozenset({' '}), items_add=frozenset({'breathes'}), confidence=0.7920792079207921, lift=1.0), OrderedStatistic(items_base=frozenset({'breathes'}), items_add=frozenset({' '}), confidence=1.0, lift=1.0)]),\n",
              " RelationRecord(items=frozenset({'eggs', ' '}), support=0.5841584158415841, ordered_statistics=[OrderedStatistic(items_base=frozenset(), items_add=frozenset({'eggs', ' '}), confidence=0.5841584158415841, lift=1.0), OrderedStatistic(items_base=frozenset({' '}), items_add=frozenset({'eggs'}), confidence=0.5841584158415841, lift=1.0), OrderedStatistic(items_base=frozenset({'eggs'}), items_add=frozenset({' '}), confidence=1.0, lift=1.0)]),\n",
              " RelationRecord(items=frozenset({'predator', ' '}), support=0.5544554455445545, ordered_statistics=[OrderedStatistic(items_base=frozenset(), items_add=frozenset({'predator', ' '}), confidence=0.5544554455445545, lift=1.0), OrderedStatistic(items_base=frozenset({' '}), items_add=frozenset({'predator'}), confidence=0.5544554455445545, lift=1.0), OrderedStatistic(items_base=frozenset({'predator'}), items_add=frozenset({' '}), confidence=1.0, lift=1.0)]),\n",
              " RelationRecord(items=frozenset({'tail', ' '}), support=0.7425742574257426, ordered_statistics=[OrderedStatistic(items_base=frozenset(), items_add=frozenset({'tail', ' '}), confidence=0.7425742574257426, lift=1.0), OrderedStatistic(items_base=frozenset({' '}), items_add=frozenset({'tail'}), confidence=0.7425742574257426, lift=1.0), OrderedStatistic(items_base=frozenset({'tail'}), items_add=frozenset({' '}), confidence=1.0, lift=1.0)]),\n",
              " RelationRecord(items=frozenset({'toothed', ' '}), support=0.6039603960396039, ordered_statistics=[OrderedStatistic(items_base=frozenset(), items_add=frozenset({' ', 'toothed'}), confidence=0.6039603960396039, lift=1.0), OrderedStatistic(items_base=frozenset({' '}), items_add=frozenset({'toothed'}), confidence=0.6039603960396039, lift=1.0), OrderedStatistic(items_base=frozenset({'toothed'}), items_add=frozenset({' '}), confidence=1.0, lift=1.0)]),\n",
              " RelationRecord(items=frozenset({'breathes', 'backbone'}), support=0.6831683168316832, ordered_statistics=[OrderedStatistic(items_base=frozenset(), items_add=frozenset({'backbone', 'breathes'}), confidence=0.6831683168316832, lift=1.0), OrderedStatistic(items_base=frozenset({'backbone'}), items_add=frozenset({'breathes'}), confidence=0.8313253012048194, lift=1.0495481927710844), OrderedStatistic(items_base=frozenset({'breathes'}), items_add=frozenset({'backbone'}), confidence=0.8625, lift=1.0495481927710844)]),\n",
              " RelationRecord(items=frozenset({'predator', 'backbone'}), support=0.46534653465346537, ordered_statistics=[OrderedStatistic(items_base=frozenset(), items_add=frozenset({'predator', 'backbone'}), confidence=0.46534653465346537, lift=1.0), OrderedStatistic(items_base=frozenset({'backbone'}), items_add=frozenset({'predator'}), confidence=0.5662650602409639, lift=1.0212994836488813), OrderedStatistic(items_base=frozenset({'predator'}), items_add=frozenset({'backbone'}), confidence=0.8392857142857143, lift=1.0212994836488813)]),\n",
              " RelationRecord(items=frozenset({'tail', 'backbone'}), support=0.7326732673267327, ordered_statistics=[OrderedStatistic(items_base=frozenset(), items_add=frozenset({'tail', 'backbone'}), confidence=0.7326732673267327, lift=1.0), OrderedStatistic(items_base=frozenset({'backbone'}), items_add=frozenset({'tail'}), confidence=0.891566265060241, lift=1.2006425702811245), OrderedStatistic(items_base=frozenset({'tail'}), items_add=frozenset({'backbone'}), confidence=0.9866666666666667, lift=1.2006425702811245)]),\n",
              " RelationRecord(items=frozenset({'toothed', 'backbone'}), support=0.6039603960396039, ordered_statistics=[OrderedStatistic(items_base=frozenset(), items_add=frozenset({'toothed', 'backbone'}), confidence=0.6039603960396039, lift=1.0), OrderedStatistic(items_base=frozenset({'backbone'}), items_add=frozenset({'toothed'}), confidence=0.7349397590361446, lift=1.216867469879518), OrderedStatistic(items_base=frozenset({'toothed'}), items_add=frozenset({'backbone'}), confidence=1.0, lift=1.216867469879518)]),\n",
              " RelationRecord(items=frozenset({'tail', 'breathes'}), support=0.6039603960396039, ordered_statistics=[OrderedStatistic(items_base=frozenset(), items_add=frozenset({'tail', 'breathes'}), confidence=0.6039603960396039, lift=1.0), OrderedStatistic(items_base=frozenset({'breathes'}), items_add=frozenset({'tail'}), confidence=0.7625, lift=1.0268333333333333), OrderedStatistic(items_base=frozenset({'tail'}), items_add=frozenset({'breathes'}), confidence=0.8133333333333334, lift=1.0268333333333333)]),\n",
              " RelationRecord(items=frozenset({'toothed', 'breathes'}), support=0.46534653465346537, ordered_statistics=[OrderedStatistic(items_base=frozenset(), items_add=frozenset({'toothed', 'breathes'}), confidence=0.46534653465346537, lift=1.0), OrderedStatistic(items_base=frozenset({'breathes'}), items_add=frozenset({'toothed'}), confidence=0.5875, lift=0.9727459016393444), OrderedStatistic(items_base=frozenset({'toothed'}), items_add=frozenset({'breathes'}), confidence=0.7704918032786886, lift=0.9727459016393443)]),\n",
              " RelationRecord(items=frozenset({'tail', 'toothed'}), support=0.5148514851485149, ordered_statistics=[OrderedStatistic(items_base=frozenset(), items_add=frozenset({'tail', 'toothed'}), confidence=0.5148514851485149, lift=1.0), OrderedStatistic(items_base=frozenset({'tail'}), items_add=frozenset({'toothed'}), confidence=0.6933333333333334, lift=1.1479781420765027), OrderedStatistic(items_base=frozenset({'toothed'}), items_add=frozenset({'tail'}), confidence=0.8524590163934427, lift=1.1479781420765027)]),\n",
              " RelationRecord(items=frozenset({'breathes', ' ', 'backbone'}), support=0.6831683168316832, ordered_statistics=[OrderedStatistic(items_base=frozenset(), items_add=frozenset({'backbone', ' ', 'breathes'}), confidence=0.6831683168316832, lift=1.0), OrderedStatistic(items_base=frozenset({' '}), items_add=frozenset({'backbone', 'breathes'}), confidence=0.6831683168316832, lift=1.0), OrderedStatistic(items_base=frozenset({'backbone'}), items_add=frozenset({' ', 'breathes'}), confidence=0.8313253012048194, lift=1.0495481927710844), OrderedStatistic(items_base=frozenset({'breathes'}), items_add=frozenset({' ', 'backbone'}), confidence=0.8625, lift=1.0495481927710844), OrderedStatistic(items_base=frozenset({' ', 'backbone'}), items_add=frozenset({'breathes'}), confidence=0.8313253012048194, lift=1.0495481927710844), OrderedStatistic(items_base=frozenset({' ', 'breathes'}), items_add=frozenset({'backbone'}), confidence=0.8625, lift=1.0495481927710844), OrderedStatistic(items_base=frozenset({'breathes', 'backbone'}), items_add=frozenset({' '}), confidence=1.0, lift=1.0)]),\n",
              " RelationRecord(items=frozenset({'predator', ' ', 'backbone'}), support=0.46534653465346537, ordered_statistics=[OrderedStatistic(items_base=frozenset(), items_add=frozenset({'predator', ' ', 'backbone'}), confidence=0.46534653465346537, lift=1.0), OrderedStatistic(items_base=frozenset({' '}), items_add=frozenset({'predator', 'backbone'}), confidence=0.46534653465346537, lift=1.0), OrderedStatistic(items_base=frozenset({'backbone'}), items_add=frozenset({'predator', ' '}), confidence=0.5662650602409639, lift=1.0212994836488813), OrderedStatistic(items_base=frozenset({'predator'}), items_add=frozenset({' ', 'backbone'}), confidence=0.8392857142857143, lift=1.0212994836488813), OrderedStatistic(items_base=frozenset({' ', 'backbone'}), items_add=frozenset({'predator'}), confidence=0.5662650602409639, lift=1.0212994836488813), OrderedStatistic(items_base=frozenset({'predator', ' '}), items_add=frozenset({'backbone'}), confidence=0.8392857142857143, lift=1.0212994836488813), OrderedStatistic(items_base=frozenset({'predator', 'backbone'}), items_add=frozenset({' '}), confidence=1.0, lift=1.0)]),\n",
              " RelationRecord(items=frozenset({'tail', ' ', 'backbone'}), support=0.7326732673267327, ordered_statistics=[OrderedStatistic(items_base=frozenset(), items_add=frozenset({'tail', ' ', 'backbone'}), confidence=0.7326732673267327, lift=1.0), OrderedStatistic(items_base=frozenset({' '}), items_add=frozenset({'tail', 'backbone'}), confidence=0.7326732673267327, lift=1.0), OrderedStatistic(items_base=frozenset({'backbone'}), items_add=frozenset({'tail', ' '}), confidence=0.891566265060241, lift=1.2006425702811245), OrderedStatistic(items_base=frozenset({'tail'}), items_add=frozenset({' ', 'backbone'}), confidence=0.9866666666666667, lift=1.2006425702811245), OrderedStatistic(items_base=frozenset({' ', 'backbone'}), items_add=frozenset({'tail'}), confidence=0.891566265060241, lift=1.2006425702811245), OrderedStatistic(items_base=frozenset({'tail', ' '}), items_add=frozenset({'backbone'}), confidence=0.9866666666666667, lift=1.2006425702811245), OrderedStatistic(items_base=frozenset({'tail', 'backbone'}), items_add=frozenset({' '}), confidence=1.0, lift=1.0)]),\n",
              " RelationRecord(items=frozenset({'toothed', ' ', 'backbone'}), support=0.6039603960396039, ordered_statistics=[OrderedStatistic(items_base=frozenset(), items_add=frozenset({' ', 'toothed', 'backbone'}), confidence=0.6039603960396039, lift=1.0), OrderedStatistic(items_base=frozenset({' '}), items_add=frozenset({'toothed', 'backbone'}), confidence=0.6039603960396039, lift=1.0), OrderedStatistic(items_base=frozenset({'backbone'}), items_add=frozenset({' ', 'toothed'}), confidence=0.7349397590361446, lift=1.216867469879518), OrderedStatistic(items_base=frozenset({'toothed'}), items_add=frozenset({' ', 'backbone'}), confidence=1.0, lift=1.216867469879518), OrderedStatistic(items_base=frozenset({' ', 'backbone'}), items_add=frozenset({'toothed'}), confidence=0.7349397590361446, lift=1.216867469879518), OrderedStatistic(items_base=frozenset({'toothed', ' '}), items_add=frozenset({'backbone'}), confidence=1.0, lift=1.216867469879518), OrderedStatistic(items_base=frozenset({'toothed', 'backbone'}), items_add=frozenset({' '}), confidence=1.0, lift=1.0)]),\n",
              " RelationRecord(items=frozenset({'tail', ' ', 'breathes'}), support=0.6039603960396039, ordered_statistics=[OrderedStatistic(items_base=frozenset(), items_add=frozenset({'tail', ' ', 'breathes'}), confidence=0.6039603960396039, lift=1.0), OrderedStatistic(items_base=frozenset({' '}), items_add=frozenset({'tail', 'breathes'}), confidence=0.6039603960396039, lift=1.0), OrderedStatistic(items_base=frozenset({'breathes'}), items_add=frozenset({'tail', ' '}), confidence=0.7625, lift=1.0268333333333333), OrderedStatistic(items_base=frozenset({'tail'}), items_add=frozenset({' ', 'breathes'}), confidence=0.8133333333333334, lift=1.0268333333333333), OrderedStatistic(items_base=frozenset({' ', 'breathes'}), items_add=frozenset({'tail'}), confidence=0.7625, lift=1.0268333333333333), OrderedStatistic(items_base=frozenset({'tail', ' '}), items_add=frozenset({'breathes'}), confidence=0.8133333333333334, lift=1.0268333333333333), OrderedStatistic(items_base=frozenset({'tail', 'breathes'}), items_add=frozenset({' '}), confidence=1.0, lift=1.0)]),\n",
              " RelationRecord(items=frozenset({'toothed', ' ', 'breathes'}), support=0.46534653465346537, ordered_statistics=[OrderedStatistic(items_base=frozenset(), items_add=frozenset({' ', 'toothed', 'breathes'}), confidence=0.46534653465346537, lift=1.0), OrderedStatistic(items_base=frozenset({' '}), items_add=frozenset({'toothed', 'breathes'}), confidence=0.46534653465346537, lift=1.0), OrderedStatistic(items_base=frozenset({'breathes'}), items_add=frozenset({' ', 'toothed'}), confidence=0.5875, lift=0.9727459016393444), OrderedStatistic(items_base=frozenset({'toothed'}), items_add=frozenset({' ', 'breathes'}), confidence=0.7704918032786886, lift=0.9727459016393443), OrderedStatistic(items_base=frozenset({' ', 'breathes'}), items_add=frozenset({'toothed'}), confidence=0.5875, lift=0.9727459016393444), OrderedStatistic(items_base=frozenset({'toothed', ' '}), items_add=frozenset({'breathes'}), confidence=0.7704918032786886, lift=0.9727459016393443), OrderedStatistic(items_base=frozenset({'toothed', 'breathes'}), items_add=frozenset({' '}), confidence=1.0, lift=1.0)]),\n",
              " RelationRecord(items=frozenset({'toothed', 'tail', ' '}), support=0.5148514851485149, ordered_statistics=[OrderedStatistic(items_base=frozenset(), items_add=frozenset({'tail', ' ', 'toothed'}), confidence=0.5148514851485149, lift=1.0), OrderedStatistic(items_base=frozenset({' '}), items_add=frozenset({'tail', 'toothed'}), confidence=0.5148514851485149, lift=1.0), OrderedStatistic(items_base=frozenset({'tail'}), items_add=frozenset({' ', 'toothed'}), confidence=0.6933333333333334, lift=1.1479781420765027), OrderedStatistic(items_base=frozenset({'toothed'}), items_add=frozenset({'tail', ' '}), confidence=0.8524590163934427, lift=1.1479781420765027), OrderedStatistic(items_base=frozenset({'tail', ' '}), items_add=frozenset({'toothed'}), confidence=0.6933333333333334, lift=1.1479781420765027), OrderedStatistic(items_base=frozenset({'toothed', ' '}), items_add=frozenset({'tail'}), confidence=0.8524590163934427, lift=1.1479781420765027), OrderedStatistic(items_base=frozenset({'tail', 'toothed'}), items_add=frozenset({' '}), confidence=1.0, lift=1.0)]),\n",
              " RelationRecord(items=frozenset({'tail', 'breathes', 'backbone'}), support=0.594059405940594, ordered_statistics=[OrderedStatistic(items_base=frozenset(), items_add=frozenset({'backbone', 'tail', 'breathes'}), confidence=0.594059405940594, lift=1.0), OrderedStatistic(items_base=frozenset({'backbone'}), items_add=frozenset({'tail', 'breathes'}), confidence=0.7228915662650602, lift=1.1969188228323129), OrderedStatistic(items_base=frozenset({'breathes'}), items_add=frozenset({'tail', 'backbone'}), confidence=0.7499999999999999, lift=1.0236486486486485), OrderedStatistic(items_base=frozenset({'tail'}), items_add=frozenset({'backbone', 'breathes'}), confidence=0.7999999999999999, lift=1.171014492753623), OrderedStatistic(items_base=frozenset({'breathes', 'backbone'}), items_add=frozenset({'tail'}), confidence=0.8695652173913042, lift=1.171014492753623), OrderedStatistic(items_base=frozenset({'tail', 'backbone'}), items_add=frozenset({'breathes'}), confidence=0.8108108108108107, lift=1.0236486486486485), OrderedStatistic(items_base=frozenset({'tail', 'breathes'}), items_add=frozenset({'backbone'}), confidence=0.9836065573770492, lift=1.1969188228323129)]),\n",
              " RelationRecord(items=frozenset({'breathes', 'toothed', 'backbone'}), support=0.46534653465346537, ordered_statistics=[OrderedStatistic(items_base=frozenset(), items_add=frozenset({'backbone', 'toothed', 'breathes'}), confidence=0.46534653465346537, lift=1.0), OrderedStatistic(items_base=frozenset({'backbone'}), items_add=frozenset({'toothed', 'breathes'}), confidence=0.5662650602409639, lift=1.216867469879518), OrderedStatistic(items_base=frozenset({'breathes'}), items_add=frozenset({'toothed', 'backbone'}), confidence=0.5875, lift=0.9727459016393444), OrderedStatistic(items_base=frozenset({'toothed'}), items_add=frozenset({'backbone', 'breathes'}), confidence=0.7704918032786886, lift=1.1278213352340223), OrderedStatistic(items_base=frozenset({'breathes', 'backbone'}), items_add=frozenset({'toothed'}), confidence=0.6811594202898551, lift=1.1278213352340225), OrderedStatistic(items_base=frozenset({'toothed', 'backbone'}), items_add=frozenset({'breathes'}), confidence=0.7704918032786886, lift=0.9727459016393443), OrderedStatistic(items_base=frozenset({'toothed', 'breathes'}), items_add=frozenset({'backbone'}), confidence=1.0, lift=1.216867469879518)]),\n",
              " RelationRecord(items=frozenset({'tail', 'toothed', 'backbone'}), support=0.5148514851485149, ordered_statistics=[OrderedStatistic(items_base=frozenset(), items_add=frozenset({'tail', 'toothed', 'backbone'}), confidence=0.5148514851485149, lift=1.0), OrderedStatistic(items_base=frozenset({'backbone'}), items_add=frozenset({'tail', 'toothed'}), confidence=0.6265060240963856, lift=1.216867469879518), OrderedStatistic(items_base=frozenset({'tail'}), items_add=frozenset({'toothed', 'backbone'}), confidence=0.6933333333333334, lift=1.1479781420765027), OrderedStatistic(items_base=frozenset({'toothed'}), items_add=frozenset({'tail', 'backbone'}), confidence=0.8524590163934427, lift=1.1634913602126717), OrderedStatistic(items_base=frozenset({'tail', 'backbone'}), items_add=frozenset({'toothed'}), confidence=0.7027027027027027, lift=1.1634913602126717), OrderedStatistic(items_base=frozenset({'toothed', 'backbone'}), items_add=frozenset({'tail'}), confidence=0.8524590163934427, lift=1.1479781420765027), OrderedStatistic(items_base=frozenset({'tail', 'toothed'}), items_add=frozenset({'backbone'}), confidence=1.0, lift=1.216867469879518)]),\n",
              " RelationRecord(items=frozenset({'tail', 'breathes', ' ', 'backbone'}), support=0.594059405940594, ordered_statistics=[OrderedStatistic(items_base=frozenset(), items_add=frozenset({'tail', 'breathes', ' ', 'backbone'}), confidence=0.594059405940594, lift=1.0), OrderedStatistic(items_base=frozenset({' '}), items_add=frozenset({'backbone', 'tail', 'breathes'}), confidence=0.594059405940594, lift=1.0), OrderedStatistic(items_base=frozenset({'backbone'}), items_add=frozenset({'tail', ' ', 'breathes'}), confidence=0.7228915662650602, lift=1.1969188228323129), OrderedStatistic(items_base=frozenset({'breathes'}), items_add=frozenset({'tail', ' ', 'backbone'}), confidence=0.7499999999999999, lift=1.0236486486486485), OrderedStatistic(items_base=frozenset({'tail'}), items_add=frozenset({'backbone', ' ', 'breathes'}), confidence=0.7999999999999999, lift=1.171014492753623), OrderedStatistic(items_base=frozenset({' ', 'backbone'}), items_add=frozenset({'tail', 'breathes'}), confidence=0.7228915662650602, lift=1.1969188228323129), OrderedStatistic(items_base=frozenset({' ', 'breathes'}), items_add=frozenset({'tail', 'backbone'}), confidence=0.7499999999999999, lift=1.0236486486486485), OrderedStatistic(items_base=frozenset({'tail', ' '}), items_add=frozenset({'backbone', 'breathes'}), confidence=0.7999999999999999, lift=1.171014492753623), OrderedStatistic(items_base=frozenset({'breathes', 'backbone'}), items_add=frozenset({'tail', ' '}), confidence=0.8695652173913042, lift=1.171014492753623), OrderedStatistic(items_base=frozenset({'tail', 'backbone'}), items_add=frozenset({' ', 'breathes'}), confidence=0.8108108108108107, lift=1.0236486486486485), OrderedStatistic(items_base=frozenset({'tail', 'breathes'}), items_add=frozenset({' ', 'backbone'}), confidence=0.9836065573770492, lift=1.1969188228323129), OrderedStatistic(items_base=frozenset({'breathes', ' ', 'backbone'}), items_add=frozenset({'tail'}), confidence=0.8695652173913042, lift=1.171014492753623), OrderedStatistic(items_base=frozenset({'tail', ' ', 'backbone'}), items_add=frozenset({'breathes'}), confidence=0.8108108108108107, lift=1.0236486486486485), OrderedStatistic(items_base=frozenset({'tail', ' ', 'breathes'}), items_add=frozenset({'backbone'}), confidence=0.9836065573770492, lift=1.1969188228323129), OrderedStatistic(items_base=frozenset({'tail', 'breathes', 'backbone'}), items_add=frozenset({' '}), confidence=1.0, lift=1.0)]),\n",
              " RelationRecord(items=frozenset({'toothed', 'breathes', ' ', 'backbone'}), support=0.46534653465346537, ordered_statistics=[OrderedStatistic(items_base=frozenset(), items_add=frozenset({'toothed', 'breathes', ' ', 'backbone'}), confidence=0.46534653465346537, lift=1.0), OrderedStatistic(items_base=frozenset({' '}), items_add=frozenset({'backbone', 'toothed', 'breathes'}), confidence=0.46534653465346537, lift=1.0), OrderedStatistic(items_base=frozenset({'backbone'}), items_add=frozenset({' ', 'toothed', 'breathes'}), confidence=0.5662650602409639, lift=1.216867469879518), OrderedStatistic(items_base=frozenset({'breathes'}), items_add=frozenset({' ', 'toothed', 'backbone'}), confidence=0.5875, lift=0.9727459016393444), OrderedStatistic(items_base=frozenset({'toothed'}), items_add=frozenset({'backbone', ' ', 'breathes'}), confidence=0.7704918032786886, lift=1.1278213352340223), OrderedStatistic(items_base=frozenset({' ', 'backbone'}), items_add=frozenset({'toothed', 'breathes'}), confidence=0.5662650602409639, lift=1.216867469879518), OrderedStatistic(items_base=frozenset({' ', 'breathes'}), items_add=frozenset({'toothed', 'backbone'}), confidence=0.5875, lift=0.9727459016393444), OrderedStatistic(items_base=frozenset({'toothed', ' '}), items_add=frozenset({'backbone', 'breathes'}), confidence=0.7704918032786886, lift=1.1278213352340223), OrderedStatistic(items_base=frozenset({'breathes', 'backbone'}), items_add=frozenset({' ', 'toothed'}), confidence=0.6811594202898551, lift=1.1278213352340225), OrderedStatistic(items_base=frozenset({'toothed', 'backbone'}), items_add=frozenset({' ', 'breathes'}), confidence=0.7704918032786886, lift=0.9727459016393443), OrderedStatistic(items_base=frozenset({'toothed', 'breathes'}), items_add=frozenset({' ', 'backbone'}), confidence=1.0, lift=1.216867469879518), OrderedStatistic(items_base=frozenset({'breathes', ' ', 'backbone'}), items_add=frozenset({'toothed'}), confidence=0.6811594202898551, lift=1.1278213352340225), OrderedStatistic(items_base=frozenset({'toothed', ' ', 'backbone'}), items_add=frozenset({'breathes'}), confidence=0.7704918032786886, lift=0.9727459016393443), OrderedStatistic(items_base=frozenset({'toothed', ' ', 'breathes'}), items_add=frozenset({'backbone'}), confidence=1.0, lift=1.216867469879518), OrderedStatistic(items_base=frozenset({'breathes', 'toothed', 'backbone'}), items_add=frozenset({' '}), confidence=1.0, lift=1.0)]),\n",
              " RelationRecord(items=frozenset({'toothed', 'tail', ' ', 'backbone'}), support=0.5148514851485149, ordered_statistics=[OrderedStatistic(items_base=frozenset(), items_add=frozenset({'toothed', 'tail', ' ', 'backbone'}), confidence=0.5148514851485149, lift=1.0), OrderedStatistic(items_base=frozenset({' '}), items_add=frozenset({'tail', 'toothed', 'backbone'}), confidence=0.5148514851485149, lift=1.0), OrderedStatistic(items_base=frozenset({'backbone'}), items_add=frozenset({'tail', ' ', 'toothed'}), confidence=0.6265060240963856, lift=1.216867469879518), OrderedStatistic(items_base=frozenset({'tail'}), items_add=frozenset({' ', 'toothed', 'backbone'}), confidence=0.6933333333333334, lift=1.1479781420765027), OrderedStatistic(items_base=frozenset({'toothed'}), items_add=frozenset({'tail', ' ', 'backbone'}), confidence=0.8524590163934427, lift=1.1634913602126717), OrderedStatistic(items_base=frozenset({' ', 'backbone'}), items_add=frozenset({'tail', 'toothed'}), confidence=0.6265060240963856, lift=1.216867469879518), OrderedStatistic(items_base=frozenset({'tail', ' '}), items_add=frozenset({'toothed', 'backbone'}), confidence=0.6933333333333334, lift=1.1479781420765027), OrderedStatistic(items_base=frozenset({'toothed', ' '}), items_add=frozenset({'tail', 'backbone'}), confidence=0.8524590163934427, lift=1.1634913602126717), OrderedStatistic(items_base=frozenset({'tail', 'backbone'}), items_add=frozenset({' ', 'toothed'}), confidence=0.7027027027027027, lift=1.1634913602126717), OrderedStatistic(items_base=frozenset({'toothed', 'backbone'}), items_add=frozenset({'tail', ' '}), confidence=0.8524590163934427, lift=1.1479781420765027), OrderedStatistic(items_base=frozenset({'tail', 'toothed'}), items_add=frozenset({' ', 'backbone'}), confidence=1.0, lift=1.216867469879518), OrderedStatistic(items_base=frozenset({'tail', ' ', 'backbone'}), items_add=frozenset({'toothed'}), confidence=0.7027027027027027, lift=1.1634913602126717), OrderedStatistic(items_base=frozenset({'toothed', ' ', 'backbone'}), items_add=frozenset({'tail'}), confidence=0.8524590163934427, lift=1.1479781420765027), OrderedStatistic(items_base=frozenset({'toothed', 'tail', ' '}), items_add=frozenset({'backbone'}), confidence=1.0, lift=1.216867469879518), OrderedStatistic(items_base=frozenset({'tail', 'toothed', 'backbone'}), items_add=frozenset({' '}), confidence=1.0, lift=1.0)])]"
            ]
          },
          "metadata": {
            "tags": []
          },
          "execution_count": 83
        }
      ]
    },
    {
      "cell_type": "code",
      "metadata": {
        "id": "ADGELobIE6Pb"
      },
      "source": [
        ""
      ],
      "execution_count": null,
      "outputs": []
    },
    {
      "cell_type": "code",
      "metadata": {
        "id": "j7Lu5qMWE6Mr"
      },
      "source": [
        ""
      ],
      "execution_count": null,
      "outputs": []
    },
    {
      "cell_type": "code",
      "metadata": {
        "id": "AatTTX9zEZge"
      },
      "source": [
        ""
      ],
      "execution_count": null,
      "outputs": []
    },
    {
      "cell_type": "code",
      "metadata": {
        "id": "fZPa0KiJEZeG"
      },
      "source": [
        ""
      ],
      "execution_count": null,
      "outputs": []
    },
    {
      "cell_type": "code",
      "metadata": {
        "id": "YO6QrR1aEZa7"
      },
      "source": [
        ""
      ],
      "execution_count": null,
      "outputs": []
    },
    {
      "cell_type": "code",
      "metadata": {
        "id": "EaCTIpJgEZYC"
      },
      "source": [
        ""
      ],
      "execution_count": null,
      "outputs": []
    },
    {
      "cell_type": "code",
      "metadata": {
        "id": "wtCHO1XoER6z"
      },
      "source": [
        ""
      ],
      "execution_count": null,
      "outputs": []
    },
    {
      "cell_type": "markdown",
      "metadata": {
        "id": "DrIoqvjfGG4w"
      },
      "source": [
        "## อันเก่า"
      ]
    },
    {
      "cell_type": "code",
      "metadata": {
        "id": "iX6mFqxbcNKR"
      },
      "source": [
        "zoo_type_df['hair'].replace([1, 0] , [\"hair\",\" \"], inplace = True)\n",
        "zoo_type_df['feathers'].replace([1, 0] , [\"feathers\", \" \"], inplace = True)\n",
        "zoo_type_df['feathers'].replace([1, 0] , [\"feathers\", \" \"], inplace = True)\n",
        "zoo_type_df['eggs'].replace([1, 0] , [\"eggs\",\" \"], inplace = True)\n",
        "zoo_type_df['milk'].replace([1, 0] , [\"milk\", \" \"], inplace = True)\n",
        "zoo_type_df['airborne'].replace([1, 0] , [\"airborne\", \" \"], inplace = True)\n",
        "zoo_type_df['aquatic'].replace([1, 0] , [\"aquatic\", \" \"], inplace = True)\n",
        "zoo_type_df['predator'].replace([1, 0] , [\"predator\", \" \"], inplace = True)\n",
        "zoo_type_df['toothed'].replace([1, 0] , [\"toothed\", \" \"], inplace = True)\n",
        "zoo_type_df['backbone'].replace([1, 0] , [\"backbone\", \" \"], inplace = True)\n",
        "zoo_type_df['breathes'].replace([1, 0] , [\"breathes\", \" \"], inplace = True)\n",
        "zoo_type_df['venomous'].replace([1, 0] , [\"venomous\", \" \"], inplace = True)\n",
        "zoo_type_df['fins'].replace([1, 0] , [\"fins\", \" \"], inplace = True)\n",
        "zoo_type_df['tail'].replace([1, 0] , [\"tail\", \" \"], inplace = True)\n",
        "zoo_type_df['domestic'].replace([1, 0] , [\"domestic\", \" \"], inplace = True)\n",
        "zoo_type_df['catsize'].replace([1, 0] , [\"catsize\", \" \"], inplace = True)\n",
        "zoo_type_df['legs'].replace([0, 2, 4, 6] , [\" \", \"2legs\", \"4legs\", \"6legs\"], inplace = True)"
      ],
      "execution_count": null,
      "outputs": []
    },
    {
      "cell_type": "code",
      "metadata": {
        "id": "AbE1YRzmODE_"
      },
      "source": [
        "zoo_type_df['class_type'].replace([1, 2, 3, 4, 5, 6, 7] , [\"Mammal\", \"Bird\", \"Reptile\", \"Fish\", \"Amphibian\", \"Bug\", \"Invertebrate\"], inplace = True)"
      ],
      "execution_count": null,
      "outputs": []
    },
    {
      "cell_type": "code",
      "metadata": {
        "id": "EsG7lcJRmZlA"
      },
      "source": [
        "#del zoo_type_df['class_type']"
      ],
      "execution_count": null,
      "outputs": []
    },
    {
      "cell_type": "code",
      "metadata": {
        "colab": {
          "base_uri": "https://localhost:8080/",
          "height": 404
        },
        "id": "4yZNxrM-mRBG",
        "outputId": "4eb3c798-f443-43ed-eb14-7051360f8330"
      },
      "source": [
        "zoo_type_name = zoo_type_df\n",
        "zoo_type_name"
      ],
      "execution_count": null,
      "outputs": [
        {
          "output_type": "execute_result",
          "data": {
            "text/html": [
              "<div>\n",
              "<style scoped>\n",
              "    .dataframe tbody tr th:only-of-type {\n",
              "        vertical-align: middle;\n",
              "    }\n",
              "\n",
              "    .dataframe tbody tr th {\n",
              "        vertical-align: top;\n",
              "    }\n",
              "\n",
              "    .dataframe thead th {\n",
              "        text-align: right;\n",
              "    }\n",
              "</style>\n",
              "<table border=\"1\" class=\"dataframe\">\n",
              "  <thead>\n",
              "    <tr style=\"text-align: right;\">\n",
              "      <th></th>\n",
              "      <th>animal_name</th>\n",
              "      <th>hair</th>\n",
              "      <th>feathers</th>\n",
              "      <th>eggs</th>\n",
              "      <th>milk</th>\n",
              "      <th>airborne</th>\n",
              "      <th>aquatic</th>\n",
              "      <th>predator</th>\n",
              "      <th>toothed</th>\n",
              "      <th>backbone</th>\n",
              "      <th>breathes</th>\n",
              "      <th>venomous</th>\n",
              "      <th>fins</th>\n",
              "      <th>legs</th>\n",
              "      <th>tail</th>\n",
              "      <th>domestic</th>\n",
              "      <th>catsize</th>\n",
              "      <th>class_type</th>\n",
              "    </tr>\n",
              "  </thead>\n",
              "  <tbody>\n",
              "    <tr>\n",
              "      <th>0</th>\n",
              "      <td>aardvark</td>\n",
              "      <td>hair</td>\n",
              "      <td></td>\n",
              "      <td></td>\n",
              "      <td>milk</td>\n",
              "      <td></td>\n",
              "      <td></td>\n",
              "      <td>predator</td>\n",
              "      <td>toothed</td>\n",
              "      <td>backbone</td>\n",
              "      <td>breathes</td>\n",
              "      <td></td>\n",
              "      <td></td>\n",
              "      <td>4legs</td>\n",
              "      <td></td>\n",
              "      <td></td>\n",
              "      <td>catsize</td>\n",
              "      <td>Mammal</td>\n",
              "    </tr>\n",
              "    <tr>\n",
              "      <th>1</th>\n",
              "      <td>antelope</td>\n",
              "      <td>hair</td>\n",
              "      <td></td>\n",
              "      <td></td>\n",
              "      <td>milk</td>\n",
              "      <td></td>\n",
              "      <td></td>\n",
              "      <td></td>\n",
              "      <td>toothed</td>\n",
              "      <td>backbone</td>\n",
              "      <td>breathes</td>\n",
              "      <td></td>\n",
              "      <td></td>\n",
              "      <td>4legs</td>\n",
              "      <td>tail</td>\n",
              "      <td></td>\n",
              "      <td>catsize</td>\n",
              "      <td>Mammal</td>\n",
              "    </tr>\n",
              "    <tr>\n",
              "      <th>2</th>\n",
              "      <td>bass</td>\n",
              "      <td></td>\n",
              "      <td></td>\n",
              "      <td>eggs</td>\n",
              "      <td></td>\n",
              "      <td></td>\n",
              "      <td>aquatic</td>\n",
              "      <td>predator</td>\n",
              "      <td>toothed</td>\n",
              "      <td>backbone</td>\n",
              "      <td></td>\n",
              "      <td></td>\n",
              "      <td>fins</td>\n",
              "      <td></td>\n",
              "      <td>tail</td>\n",
              "      <td></td>\n",
              "      <td></td>\n",
              "      <td>Fish</td>\n",
              "    </tr>\n",
              "    <tr>\n",
              "      <th>3</th>\n",
              "      <td>bear</td>\n",
              "      <td>hair</td>\n",
              "      <td></td>\n",
              "      <td></td>\n",
              "      <td>milk</td>\n",
              "      <td></td>\n",
              "      <td></td>\n",
              "      <td>predator</td>\n",
              "      <td>toothed</td>\n",
              "      <td>backbone</td>\n",
              "      <td>breathes</td>\n",
              "      <td></td>\n",
              "      <td></td>\n",
              "      <td>4legs</td>\n",
              "      <td></td>\n",
              "      <td></td>\n",
              "      <td>catsize</td>\n",
              "      <td>Mammal</td>\n",
              "    </tr>\n",
              "    <tr>\n",
              "      <th>4</th>\n",
              "      <td>boar</td>\n",
              "      <td>hair</td>\n",
              "      <td></td>\n",
              "      <td></td>\n",
              "      <td>milk</td>\n",
              "      <td></td>\n",
              "      <td></td>\n",
              "      <td>predator</td>\n",
              "      <td>toothed</td>\n",
              "      <td>backbone</td>\n",
              "      <td>breathes</td>\n",
              "      <td></td>\n",
              "      <td></td>\n",
              "      <td>4legs</td>\n",
              "      <td>tail</td>\n",
              "      <td></td>\n",
              "      <td>catsize</td>\n",
              "      <td>Mammal</td>\n",
              "    </tr>\n",
              "    <tr>\n",
              "      <th>...</th>\n",
              "      <td>...</td>\n",
              "      <td>...</td>\n",
              "      <td>...</td>\n",
              "      <td>...</td>\n",
              "      <td>...</td>\n",
              "      <td>...</td>\n",
              "      <td>...</td>\n",
              "      <td>...</td>\n",
              "      <td>...</td>\n",
              "      <td>...</td>\n",
              "      <td>...</td>\n",
              "      <td>...</td>\n",
              "      <td>...</td>\n",
              "      <td>...</td>\n",
              "      <td>...</td>\n",
              "      <td>...</td>\n",
              "      <td>...</td>\n",
              "      <td>...</td>\n",
              "    </tr>\n",
              "    <tr>\n",
              "      <th>96</th>\n",
              "      <td>wallaby</td>\n",
              "      <td>hair</td>\n",
              "      <td></td>\n",
              "      <td></td>\n",
              "      <td>milk</td>\n",
              "      <td></td>\n",
              "      <td></td>\n",
              "      <td></td>\n",
              "      <td>toothed</td>\n",
              "      <td>backbone</td>\n",
              "      <td>breathes</td>\n",
              "      <td></td>\n",
              "      <td></td>\n",
              "      <td>2legs</td>\n",
              "      <td>tail</td>\n",
              "      <td></td>\n",
              "      <td>catsize</td>\n",
              "      <td>Mammal</td>\n",
              "    </tr>\n",
              "    <tr>\n",
              "      <th>97</th>\n",
              "      <td>wasp</td>\n",
              "      <td>hair</td>\n",
              "      <td></td>\n",
              "      <td>eggs</td>\n",
              "      <td></td>\n",
              "      <td>airborne</td>\n",
              "      <td></td>\n",
              "      <td></td>\n",
              "      <td></td>\n",
              "      <td></td>\n",
              "      <td>breathes</td>\n",
              "      <td>venomous</td>\n",
              "      <td></td>\n",
              "      <td>6legs</td>\n",
              "      <td></td>\n",
              "      <td></td>\n",
              "      <td></td>\n",
              "      <td>Bug</td>\n",
              "    </tr>\n",
              "    <tr>\n",
              "      <th>98</th>\n",
              "      <td>wolf</td>\n",
              "      <td>hair</td>\n",
              "      <td></td>\n",
              "      <td></td>\n",
              "      <td>milk</td>\n",
              "      <td></td>\n",
              "      <td></td>\n",
              "      <td>predator</td>\n",
              "      <td>toothed</td>\n",
              "      <td>backbone</td>\n",
              "      <td>breathes</td>\n",
              "      <td></td>\n",
              "      <td></td>\n",
              "      <td>4legs</td>\n",
              "      <td>tail</td>\n",
              "      <td></td>\n",
              "      <td>catsize</td>\n",
              "      <td>Mammal</td>\n",
              "    </tr>\n",
              "    <tr>\n",
              "      <th>99</th>\n",
              "      <td>worm</td>\n",
              "      <td></td>\n",
              "      <td></td>\n",
              "      <td>eggs</td>\n",
              "      <td></td>\n",
              "      <td></td>\n",
              "      <td></td>\n",
              "      <td></td>\n",
              "      <td></td>\n",
              "      <td></td>\n",
              "      <td>breathes</td>\n",
              "      <td></td>\n",
              "      <td></td>\n",
              "      <td></td>\n",
              "      <td></td>\n",
              "      <td></td>\n",
              "      <td></td>\n",
              "      <td>Invertebrate</td>\n",
              "    </tr>\n",
              "    <tr>\n",
              "      <th>100</th>\n",
              "      <td>wren</td>\n",
              "      <td></td>\n",
              "      <td>feathers</td>\n",
              "      <td>eggs</td>\n",
              "      <td></td>\n",
              "      <td>airborne</td>\n",
              "      <td></td>\n",
              "      <td></td>\n",
              "      <td></td>\n",
              "      <td>backbone</td>\n",
              "      <td>breathes</td>\n",
              "      <td></td>\n",
              "      <td></td>\n",
              "      <td>2legs</td>\n",
              "      <td>tail</td>\n",
              "      <td></td>\n",
              "      <td></td>\n",
              "      <td>Bird</td>\n",
              "    </tr>\n",
              "  </tbody>\n",
              "</table>\n",
              "<p>101 rows × 18 columns</p>\n",
              "</div>"
            ],
            "text/plain": [
              "    animal_name  hair  feathers  eggs  ...  tail domestic  catsize    class_type\n",
              "0      aardvark  hair                  ...                 catsize        Mammal\n",
              "1      antelope  hair                  ...  tail           catsize        Mammal\n",
              "2          bass                  eggs  ...  tail                            Fish\n",
              "3          bear  hair                  ...                 catsize        Mammal\n",
              "4          boar  hair                  ...  tail           catsize        Mammal\n",
              "..          ...   ...       ...   ...  ...   ...      ...      ...           ...\n",
              "96      wallaby  hair                  ...  tail           catsize        Mammal\n",
              "97         wasp  hair            eggs  ...                                   Bug\n",
              "98         wolf  hair                  ...  tail           catsize        Mammal\n",
              "99         worm                  eggs  ...                          Invertebrate\n",
              "100        wren        feathers  eggs  ...  tail                            Bird\n",
              "\n",
              "[101 rows x 18 columns]"
            ]
          },
          "metadata": {
            "tags": []
          },
          "execution_count": 38
        }
      ]
    },
    {
      "cell_type": "code",
      "metadata": {
        "id": "XJe-lezC4lE8",
        "colab": {
          "base_uri": "https://localhost:8080/"
        },
        "outputId": "93a54382-5f81-4cd6-d398-37450008fa9f"
      },
      "source": [
        "zoo_type_name[\"class_type\"]"
      ],
      "execution_count": null,
      "outputs": [
        {
          "output_type": "execute_result",
          "data": {
            "text/plain": [
              "0            Mammal\n",
              "1            Mammal\n",
              "2              Fish\n",
              "3            Mammal\n",
              "4            Mammal\n",
              "           ...     \n",
              "96           Mammal\n",
              "97              Bug\n",
              "98           Mammal\n",
              "99     Invertebrate\n",
              "100            Bird\n",
              "Name: class_type, Length: 101, dtype: object"
            ]
          },
          "metadata": {
            "tags": []
          },
          "execution_count": 50
        }
      ]
    },
    {
      "cell_type": "code",
      "metadata": {
        "id": "4TzosKxX4tt8"
      },
      "source": [
        ""
      ],
      "execution_count": null,
      "outputs": []
    },
    {
      "cell_type": "code",
      "metadata": {
        "id": "YjPs4Ik10L34",
        "colab": {
          "base_uri": "https://localhost:8080/"
        },
        "outputId": "298304e9-0d6e-42d5-8f61-ed2475f3cc67"
      },
      "source": [
        "!pip install apyori"
      ],
      "execution_count": null,
      "outputs": [
        {
          "output_type": "stream",
          "text": [
            "Collecting apyori\n",
            "  Downloading https://files.pythonhosted.org/packages/5e/62/5ffde5c473ea4b033490617ec5caa80d59804875ad3c3c57c0976533a21a/apyori-1.1.2.tar.gz\n",
            "Building wheels for collected packages: apyori\n",
            "  Building wheel for apyori (setup.py) ... \u001b[?25l\u001b[?25hdone\n",
            "  Created wheel for apyori: filename=apyori-1.1.2-cp36-none-any.whl size=5975 sha256=ee0105b8063e7cbe8a1d3b2dabb910e971e3c37b2b00e127eaf68afb94c8bb9f\n",
            "  Stored in directory: /root/.cache/pip/wheels/5d/92/bb/474bbadbc8c0062b9eb168f69982a0443263f8ab1711a8cad0\n",
            "Successfully built apyori\n",
            "Installing collected packages: apyori\n",
            "Successfully installed apyori-1.1.2\n"
          ],
          "name": "stdout"
        }
      ]
    },
    {
      "cell_type": "code",
      "metadata": {
        "id": "qMTReJOFzx7e"
      },
      "source": [
        "from apyori import apriori"
      ],
      "execution_count": null,
      "outputs": []
    },
    {
      "cell_type": "code",
      "metadata": {
        "colab": {
          "base_uri": "https://localhost:8080/"
        },
        "id": "1qmtwKPxe748",
        "outputId": "7fad7c69-1b7f-476f-8b39-caa9a469f1bb"
      },
      "source": [
        "conf = apriori(zoo_type_df, min_support=0.03, use_colnames=True)\n",
        "conf"
      ],
      "execution_count": null,
      "outputs": [
        {
          "output_type": "execute_result",
          "data": {
            "text/plain": [
              "<generator object apriori at 0x7f0b83911678>"
            ]
          },
          "metadata": {
            "tags": []
          },
          "execution_count": 20
        }
      ]
    },
    {
      "cell_type": "code",
      "metadata": {
        "id": "aJDTqoo8HmOh",
        "colab": {
          "base_uri": "https://localhost:8080/"
        },
        "outputId": "23988134-a94c-42f0-cacf-135ebf9d00a8"
      },
      "source": [
        "freq_items = list(apriori(zoo_type_df, min_support = 0.7, min_confidence = 0.1))\n",
        "freq_items"
      ],
      "execution_count": null,
      "outputs": [
        {
          "output_type": "execute_result",
          "data": {
            "text/plain": [
              "[RelationRecord(items=frozenset({'e'}), support=0.7222222222222222, ordered_statistics=[OrderedStatistic(items_base=frozenset(), items_add=frozenset({'e'}), confidence=0.7222222222222222, lift=1.0)])]"
            ]
          },
          "metadata": {
            "tags": []
          },
          "execution_count": 65
        }
      ]
    },
    {
      "cell_type": "code",
      "metadata": {
        "id": "1us6ExCd1ob9"
      },
      "source": [
        "class2 = pandas."
      ],
      "execution_count": null,
      "outputs": []
    },
    {
      "cell_type": "code",
      "metadata": {
        "id": "nba2PtsqO0Dl",
        "colab": {
          "base_uri": "https://localhost:8080/"
        },
        "outputId": "4f913b54-aac8-4aaa-b814-c911ae384049"
      },
      "source": [
        "list(transecs)"
      ],
      "execution_count": null,
      "outputs": [
        {
          "output_type": "execute_result",
          "data": {
            "text/plain": [
              "[('Amphibian',\n",
              "     animal_name hair feathers  eggs  ...  tail domestic catsize class_type\n",
              "  25        frog                eggs  ...                         Amphibian\n",
              "  26        frog                eggs  ...                         Amphibian\n",
              "  52        newt                eggs  ...  tail                   Amphibian\n",
              "  89        toad                eggs  ...                         Amphibian\n",
              "  \n",
              "  [4 rows x 18 columns]),\n",
              " ('Bird',\n",
              "      animal_name hair  feathers  eggs  ...  tail  domestic  catsize class_type\n",
              "  11      chicken       feathers  eggs  ...  tail  domestic                Bird\n",
              "  16         crow       feathers  eggs  ...  tail                          Bird\n",
              "  20         dove       feathers  eggs  ...  tail  domestic                Bird\n",
              "  21         duck       feathers  eggs  ...  tail                          Bird\n",
              "  23     flamingo       feathers  eggs  ...  tail            catsize       Bird\n",
              "  33         gull       feathers  eggs  ...  tail                          Bird\n",
              "  37         hawk       feathers  eggs  ...  tail                          Bird\n",
              "  41         kiwi       feathers  eggs  ...  tail                          Bird\n",
              "  43         lark       feathers  eggs  ...  tail                          Bird\n",
              "  56      ostrich       feathers  eggs  ...  tail            catsize       Bird\n",
              "  57     parakeet       feathers  eggs  ...  tail  domestic                Bird\n",
              "  58      penguin       feathers  eggs  ...  tail            catsize       Bird\n",
              "  59     pheasant       feathers  eggs  ...  tail                          Bird\n",
              "  71         rhea       feathers  eggs  ...  tail            catsize       Bird\n",
              "  78      skimmer       feathers  eggs  ...  tail                          Bird\n",
              "  79         skua       feathers  eggs  ...  tail                          Bird\n",
              "  83      sparrow       feathers  eggs  ...  tail                          Bird\n",
              "  87         swan       feathers  eggs  ...  tail            catsize       Bird\n",
              "  95      vulture       feathers  eggs  ...  tail            catsize       Bird\n",
              "  100        wren       feathers  eggs  ...  tail                          Bird\n",
              "  \n",
              "  [20 rows x 18 columns]),\n",
              " ('Bug',\n",
              "     animal_name  hair feathers  eggs  ... tail  domestic catsize class_type\n",
              "  24        flea                 eggs  ...                               Bug\n",
              "  30        gnat                 eggs  ...                               Bug\n",
              "  39    honeybee  hair           eggs  ...       domestic                Bug\n",
              "  40    housefly  hair           eggs  ...                               Bug\n",
              "  42    ladybird                 eggs  ...                               Bug\n",
              "  51        moth  hair           eggs  ...                               Bug\n",
              "  88     termite                 eggs  ...                               Bug\n",
              "  97        wasp  hair           eggs  ...                               Bug\n",
              "  \n",
              "  [8 rows x 18 columns]),\n",
              " ('Fish',\n",
              "     animal_name hair feathers  eggs  ...  tail  domestic  catsize class_type\n",
              "  2         bass                eggs  ...  tail                          Fish\n",
              "  7         carp                eggs  ...  tail  domestic                Fish\n",
              "  8      catfish                eggs  ...  tail                          Fish\n",
              "  12        chub                eggs  ...  tail                          Fish\n",
              "  18     dogfish                eggs  ...  tail            catsize       Fish\n",
              "  34     haddock                eggs  ...  tail                          Fish\n",
              "  38     herring                eggs  ...  tail                          Fish\n",
              "  60        pike                eggs  ...  tail            catsize       Fish\n",
              "  61     piranha                eggs  ...  tail                          Fish\n",
              "  73    seahorse                eggs  ...  tail                          Fish\n",
              "  82        sole                eggs  ...  tail                          Fish\n",
              "  86    stingray                eggs  ...  tail            catsize       Fish\n",
              "  92        tuna                eggs  ...  tail            catsize       Fish\n",
              "  \n",
              "  [13 rows x 18 columns]),\n",
              " ('Invertebrate',\n",
              "     animal_name hair feathers  eggs  ...  tail domestic  catsize    class_type\n",
              "  13        clam                eggs  ...                          Invertebrate\n",
              "  14        crab                eggs  ...                          Invertebrate\n",
              "  15    crayfish                eggs  ...                          Invertebrate\n",
              "  46     lobster                eggs  ...                          Invertebrate\n",
              "  53     octopus                eggs  ...                 catsize  Invertebrate\n",
              "  72    scorpion                      ...  tail                    Invertebrate\n",
              "  77     seawasp                eggs  ...                          Invertebrate\n",
              "  81        slug                eggs  ...                          Invertebrate\n",
              "  85    starfish                eggs  ...                          Invertebrate\n",
              "  99        worm                eggs  ...                          Invertebrate\n",
              "  \n",
              "  [10 rows x 18 columns]),\n",
              " ('Mammal',\n",
              "     animal_name  hair feathers  eggs  ...  tail  domestic  catsize class_type\n",
              "  0     aardvark  hair                 ...                  catsize     Mammal\n",
              "  1     antelope  hair                 ...  tail            catsize     Mammal\n",
              "  3         bear  hair                 ...                  catsize     Mammal\n",
              "  4         boar  hair                 ...  tail            catsize     Mammal\n",
              "  5      buffalo  hair                 ...  tail            catsize     Mammal\n",
              "  6         calf  hair                 ...  tail  domestic  catsize     Mammal\n",
              "  9         cavy  hair                 ...        domestic              Mammal\n",
              "  10     cheetah  hair                 ...  tail            catsize     Mammal\n",
              "  17        deer  hair                 ...  tail            catsize     Mammal\n",
              "  19     dolphin                       ...  tail            catsize     Mammal\n",
              "  22    elephant  hair                 ...  tail            catsize     Mammal\n",
              "  27    fruitbat  hair                 ...  tail                        Mammal\n",
              "  28     giraffe  hair                 ...  tail            catsize     Mammal\n",
              "  29        girl  hair                 ...        domestic  catsize     Mammal\n",
              "  31        goat  hair                 ...  tail  domestic  catsize     Mammal\n",
              "  32     gorilla  hair                 ...                  catsize     Mammal\n",
              "  35     hamster  hair                 ...  tail  domestic              Mammal\n",
              "  36        hare  hair                 ...  tail                        Mammal\n",
              "  44     leopard  hair                 ...  tail            catsize     Mammal\n",
              "  45        lion  hair                 ...  tail            catsize     Mammal\n",
              "  47        lynx  hair                 ...  tail            catsize     Mammal\n",
              "  48        mink  hair                 ...  tail            catsize     Mammal\n",
              "  49        mole  hair                 ...  tail                        Mammal\n",
              "  50    mongoose  hair                 ...  tail            catsize     Mammal\n",
              "  54     opossum  hair                 ...  tail                        Mammal\n",
              "  55        oryx  hair                 ...  tail            catsize     Mammal\n",
              "  63    platypus  hair           eggs  ...  tail            catsize     Mammal\n",
              "  64     polecat  hair                 ...  tail            catsize     Mammal\n",
              "  65        pony  hair                 ...  tail  domestic  catsize     Mammal\n",
              "  66    porpoise                       ...  tail            catsize     Mammal\n",
              "  67        puma  hair                 ...  tail            catsize     Mammal\n",
              "  68    pussycat  hair                 ...  tail  domestic  catsize     Mammal\n",
              "  69     raccoon  hair                 ...  tail            catsize     Mammal\n",
              "  70    reindeer  hair                 ...  tail  domestic  catsize     Mammal\n",
              "  74        seal  hair                 ...                  catsize     Mammal\n",
              "  75     sealion  hair                 ...  tail            catsize     Mammal\n",
              "  84    squirrel  hair                 ...  tail                        Mammal\n",
              "  93     vampire  hair                 ...  tail                        Mammal\n",
              "  94        vole  hair                 ...  tail                        Mammal\n",
              "  96     wallaby  hair                 ...  tail            catsize     Mammal\n",
              "  98        wolf  hair                 ...  tail            catsize     Mammal\n",
              "  \n",
              "  [41 rows x 18 columns]),\n",
              " ('Reptile',\n",
              "     animal_name hair feathers  eggs  ...  tail domestic  catsize class_type\n",
              "  62    pitviper                eggs  ...  tail                      Reptile\n",
              "  76    seasnake                      ...  tail                      Reptile\n",
              "  80    slowworm                eggs  ...  tail                      Reptile\n",
              "  90    tortoise                eggs  ...  tail           catsize    Reptile\n",
              "  91     tuatara                eggs  ...  tail                      Reptile\n",
              "  \n",
              "  [5 rows x 18 columns])]"
            ]
          },
          "metadata": {
            "tags": []
          },
          "execution_count": 100
        }
      ]
    },
    {
      "cell_type": "code",
      "metadata": {
        "id": "EUIqkoC5PfGk",
        "colab": {
          "base_uri": "https://localhost:8080/",
          "height": 166
        },
        "outputId": "dcfb83b6-fcc6-46da-c9a7-ce098176eded"
      },
      "source": [
        "transecs.get_group('Amphibian').apply(list)"
      ],
      "execution_count": null,
      "outputs": [
        {
          "output_type": "execute_result",
          "data": {
            "text/html": [
              "<div>\n",
              "<style scoped>\n",
              "    .dataframe tbody tr th:only-of-type {\n",
              "        vertical-align: middle;\n",
              "    }\n",
              "\n",
              "    .dataframe tbody tr th {\n",
              "        vertical-align: top;\n",
              "    }\n",
              "\n",
              "    .dataframe thead th {\n",
              "        text-align: right;\n",
              "    }\n",
              "</style>\n",
              "<table border=\"1\" class=\"dataframe\">\n",
              "  <thead>\n",
              "    <tr style=\"text-align: right;\">\n",
              "      <th></th>\n",
              "      <th>animal_name</th>\n",
              "      <th>hair</th>\n",
              "      <th>feathers</th>\n",
              "      <th>eggs</th>\n",
              "      <th>milk</th>\n",
              "      <th>airborne</th>\n",
              "      <th>aquatic</th>\n",
              "      <th>predator</th>\n",
              "      <th>toothed</th>\n",
              "      <th>backbone</th>\n",
              "      <th>breathes</th>\n",
              "      <th>venomous</th>\n",
              "      <th>fins</th>\n",
              "      <th>legs</th>\n",
              "      <th>tail</th>\n",
              "      <th>domestic</th>\n",
              "      <th>catsize</th>\n",
              "      <th>class_type</th>\n",
              "    </tr>\n",
              "  </thead>\n",
              "  <tbody>\n",
              "    <tr>\n",
              "      <th>25</th>\n",
              "      <td>frog</td>\n",
              "      <td></td>\n",
              "      <td></td>\n",
              "      <td>eggs</td>\n",
              "      <td></td>\n",
              "      <td></td>\n",
              "      <td>aquatic</td>\n",
              "      <td>predator</td>\n",
              "      <td>toothed</td>\n",
              "      <td>backbone</td>\n",
              "      <td>breathes</td>\n",
              "      <td></td>\n",
              "      <td></td>\n",
              "      <td>4legs</td>\n",
              "      <td></td>\n",
              "      <td></td>\n",
              "      <td></td>\n",
              "      <td>Amphibian</td>\n",
              "    </tr>\n",
              "    <tr>\n",
              "      <th>26</th>\n",
              "      <td>frog</td>\n",
              "      <td></td>\n",
              "      <td></td>\n",
              "      <td>eggs</td>\n",
              "      <td></td>\n",
              "      <td></td>\n",
              "      <td>aquatic</td>\n",
              "      <td>predator</td>\n",
              "      <td>toothed</td>\n",
              "      <td>backbone</td>\n",
              "      <td>breathes</td>\n",
              "      <td>venomous</td>\n",
              "      <td></td>\n",
              "      <td>4legs</td>\n",
              "      <td></td>\n",
              "      <td></td>\n",
              "      <td></td>\n",
              "      <td>Amphibian</td>\n",
              "    </tr>\n",
              "    <tr>\n",
              "      <th>52</th>\n",
              "      <td>newt</td>\n",
              "      <td></td>\n",
              "      <td></td>\n",
              "      <td>eggs</td>\n",
              "      <td></td>\n",
              "      <td></td>\n",
              "      <td>aquatic</td>\n",
              "      <td>predator</td>\n",
              "      <td>toothed</td>\n",
              "      <td>backbone</td>\n",
              "      <td>breathes</td>\n",
              "      <td></td>\n",
              "      <td></td>\n",
              "      <td>4legs</td>\n",
              "      <td>tail</td>\n",
              "      <td></td>\n",
              "      <td></td>\n",
              "      <td>Amphibian</td>\n",
              "    </tr>\n",
              "    <tr>\n",
              "      <th>89</th>\n",
              "      <td>toad</td>\n",
              "      <td></td>\n",
              "      <td></td>\n",
              "      <td>eggs</td>\n",
              "      <td></td>\n",
              "      <td></td>\n",
              "      <td>aquatic</td>\n",
              "      <td></td>\n",
              "      <td>toothed</td>\n",
              "      <td>backbone</td>\n",
              "      <td>breathes</td>\n",
              "      <td></td>\n",
              "      <td></td>\n",
              "      <td>4legs</td>\n",
              "      <td></td>\n",
              "      <td></td>\n",
              "      <td></td>\n",
              "      <td>Amphibian</td>\n",
              "    </tr>\n",
              "  </tbody>\n",
              "</table>\n",
              "</div>"
            ],
            "text/plain": [
              "   animal_name hair feathers  eggs  ...  tail domestic catsize class_type\n",
              "25        frog                eggs  ...                         Amphibian\n",
              "26        frog                eggs  ...                         Amphibian\n",
              "52        newt                eggs  ...  tail                   Amphibian\n",
              "89        toad                eggs  ...                         Amphibian\n",
              "\n",
              "[4 rows x 18 columns]"
            ]
          },
          "metadata": {
            "tags": []
          },
          "execution_count": 93
        }
      ]
    }
  ]
}