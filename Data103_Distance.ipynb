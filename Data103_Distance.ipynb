{
  "nbformat": 4,
  "nbformat_minor": 0,
  "metadata": {
    "colab": {
      "name": "Data103 Distance.ipynb",
      "provenance": [],
      "authorship_tag": "ABX9TyMQmPswkLwTrLPUg4eiFIFy",
      "include_colab_link": true
    },
    "kernelspec": {
      "name": "python3",
      "display_name": "Python 3"
    }
  },
  "cells": [
    {
      "cell_type": "markdown",
      "metadata": {
        "id": "view-in-github",
        "colab_type": "text"
      },
      "source": [
        "<a href=\"https://colab.research.google.com/github/PondKann/KKU_data_mining/blob/master/Data103_Distance.ipynb\" target=\"_parent\"><img src=\"https://colab.research.google.com/assets/colab-badge.svg\" alt=\"Open In Colab\"/></a>"
      ]
    },
    {
      "cell_type": "code",
      "metadata": {
        "id": "0-dLfXjJsH66",
        "colab_type": "code",
        "colab": {}
      },
      "source": [
        "# เกี่ยวกับตัวเลข\n",
        "import numpy as np"
      ],
      "execution_count": null,
      "outputs": []
    },
    {
      "cell_type": "markdown",
      "metadata": {
        "id": "1UGtbj0lsfe6",
        "colab_type": "text"
      },
      "source": [
        "# Numpy Array"
      ]
    },
    {
      "cell_type": "code",
      "metadata": {
        "id": "Bq5CTDHxsOQQ",
        "colab_type": "code",
        "colab": {
          "base_uri": "https://localhost:8080/",
          "height": 52
        },
        "outputId": "9c4d2eff-677a-41e4-be99-23af1d776251"
      },
      "source": [
        "np1 = np.array([[1,3,5],[2,4,6]]) # สร้าง numpy array แถวที่ 1-2 \n",
        "np1"
      ],
      "execution_count": null,
      "outputs": [
        {
          "output_type": "execute_result",
          "data": {
            "text/plain": [
              "array([[1, 3, 5],\n",
              "       [2, 4, 6]])"
            ]
          },
          "metadata": {
            "tags": []
          },
          "execution_count": 4
        }
      ]
    },
    {
      "cell_type": "code",
      "metadata": {
        "id": "J07EmRYotBAY",
        "colab_type": "code",
        "colab": {
          "base_uri": "https://localhost:8080/",
          "height": 86
        },
        "outputId": "37fbf8da-ea5c-4fab-c66f-1209bd28cabf"
      },
      "source": [
        "np2 = np.array([[1,2],[3,5],[2,0],[4,5]]) # สร้าง numpy array แถวที่ 1-4 \n",
        "np2"
      ],
      "execution_count": null,
      "outputs": [
        {
          "output_type": "execute_result",
          "data": {
            "text/plain": [
              "array([[1, 2],\n",
              "       [3, 5],\n",
              "       [2, 0],\n",
              "       [4, 5]])"
            ]
          },
          "metadata": {
            "tags": []
          },
          "execution_count": 5
        }
      ]
    },
    {
      "cell_type": "code",
      "metadata": {
        "id": "XAaR8hAitA9p",
        "colab_type": "code",
        "colab": {
          "base_uri": "https://localhost:8080/",
          "height": 52
        },
        "outputId": "e125a978-ae8a-437a-ab04-b5ceb2ef7729"
      },
      "source": [
        "np2.T # Transpost"
      ],
      "execution_count": null,
      "outputs": [
        {
          "output_type": "execute_result",
          "data": {
            "text/plain": [
              "array([[1, 3, 2, 4],\n",
              "       [2, 5, 0, 5]])"
            ]
          },
          "metadata": {
            "tags": []
          },
          "execution_count": 6
        }
      ]
    },
    {
      "cell_type": "code",
      "metadata": {
        "id": "WvMvCyS2uVY7",
        "colab_type": "code",
        "colab": {
          "base_uri": "https://localhost:8080/",
          "height": 34
        },
        "outputId": "ea407ee6-441c-4a1d-bcdc-185b2280d217"
      },
      "source": [
        "np2[0,:] # ดูข้อมูล แถวแรก(0) ข้อมูลทุกตัว(:)ในแถวแรก"
      ],
      "execution_count": null,
      "outputs": [
        {
          "output_type": "execute_result",
          "data": {
            "text/plain": [
              "array([1, 2])"
            ]
          },
          "metadata": {
            "tags": []
          },
          "execution_count": 7
        }
      ]
    },
    {
      "cell_type": "markdown",
      "metadata": {
        "id": "EBHlEYr4upIu",
        "colab_type": "text"
      },
      "source": [
        "## HW 6 \n",
        "สร้าง Distance matrix (Manhattan and Euclidean) ของ np2\n",
        "โดยสร้าง function สำหรับคำนวณ Manhattan distance และ Euclidean distance\n",
        "\n",
        "\n",
        "'''\n",
        "def Euclidean(data1,data2);\n",
        "  #process\n",
        "  return dist\n",
        "  \n",
        "'''\n"
      ]
    },
    {
      "cell_type": "markdown",
      "metadata": {
        "id": "jvwq5NoFsVSq",
        "colab_type": "text"
      },
      "source": [
        "Manhattan"
      ]
    },
    {
      "cell_type": "code",
      "metadata": {
        "id": "aqUXYwvixHaj",
        "colab_type": "code",
        "colab": {}
      },
      "source": [
        "import math"
      ],
      "execution_count": null,
      "outputs": []
    },
    {
      "cell_type": "code",
      "metadata": {
        "id": "XUuUveEKwE8w",
        "colab_type": "code",
        "colab": {}
      },
      "source": [
        "def Manhattan(data1,data2):\n",
        "    distX = abs(data1[0]-data2[0]) # ใส่ abs เพื่อให้มันเป็นบวก\n",
        "    distY = abs(data1[1]-data2[1]) # Y อยู่ตำแหน่งที่ 1\n",
        "    return distX+distY"
      ],
      "execution_count": null,
      "outputs": []
    },
    {
      "cell_type": "code",
      "metadata": {
        "id": "77pqiQuQwE4d",
        "colab_type": "code",
        "colab": {
          "base_uri": "https://localhost:8080/",
          "height": 34
        },
        "outputId": "1cad9125-8134-4b54-8a10-63c91f58e29b"
      },
      "source": [
        "Manhattan(np2[0,:],np2[1,:])"
      ],
      "execution_count": null,
      "outputs": [
        {
          "output_type": "execute_result",
          "data": {
            "text/plain": [
              "5"
            ]
          },
          "metadata": {
            "tags": []
          },
          "execution_count": 10
        }
      ]
    },
    {
      "cell_type": "code",
      "metadata": {
        "id": "uCbDzNSdxDfT",
        "colab_type": "code",
        "colab": {
          "base_uri": "https://localhost:8080/",
          "height": 86
        },
        "outputId": "0095fdfa-d610-49ca-da3b-8faa7424649a"
      },
      "source": [
        "# สร้าง array เปล่า 4x4 มาจากจำนวนข้อมูล .zeros คือเริ่มจาก 0 .zone ก็มี\n",
        "dist_mat = np.zeros((4,4))\n",
        "dist_mat"
      ],
      "execution_count": null,
      "outputs": [
        {
          "output_type": "execute_result",
          "data": {
            "text/plain": [
              "array([[0., 0., 0., 0.],\n",
              "       [0., 0., 0., 0.],\n",
              "       [0., 0., 0., 0.],\n",
              "       [0., 0., 0., 0.]])"
            ]
          },
          "metadata": {
            "tags": []
          },
          "execution_count": 11
        }
      ]
    },
    {
      "cell_type": "code",
      "metadata": {
        "id": "0xU1wyPQxDcL",
        "colab_type": "code",
        "colab": {
          "base_uri": "https://localhost:8080/",
          "height": 86
        },
        "outputId": "301ff540-a451-416f-9953-bb7eebe70805"
      },
      "source": [
        "for i in range(4):\n",
        "    for j in range(4):\n",
        "      dist_mat[i,j] = Manhattan(np2[i,:],np2[j,:])\n",
        "      \n",
        "dist_mat"
      ],
      "execution_count": null,
      "outputs": [
        {
          "output_type": "execute_result",
          "data": {
            "text/plain": [
              "array([[0., 5., 3., 6.],\n",
              "       [5., 0., 6., 1.],\n",
              "       [3., 6., 0., 7.],\n",
              "       [6., 1., 7., 0.]])"
            ]
          },
          "metadata": {
            "tags": []
          },
          "execution_count": 12
        }
      ]
    },
    {
      "cell_type": "code",
      "metadata": {
        "id": "SoZYwhaR0NlS",
        "colab_type": "code",
        "colab": {
          "base_uri": "https://localhost:8080/",
          "height": 34
        },
        "outputId": "81d47354-5b77-499e-fe4b-33e5531a975c"
      },
      "source": [
        "np2.shape # บอกจำนวนแถวและหลัก ของ เมตริกซ์"
      ],
      "execution_count": null,
      "outputs": [
        {
          "output_type": "execute_result",
          "data": {
            "text/plain": [
              "(4, 2)"
            ]
          },
          "metadata": {
            "tags": []
          },
          "execution_count": 13
        }
      ]
    },
    {
      "cell_type": "markdown",
      "metadata": {
        "id": "Jz45V0CpscB8",
        "colab_type": "text"
      },
      "source": [
        "Euclidean"
      ]
    },
    {
      "cell_type": "code",
      "metadata": {
        "id": "w-mHcZTSMZTB",
        "colab_type": "code",
        "colab": {}
      },
      "source": [
        "def Euclidean(data1,data2):\n",
        "    distX = pow(abs(data1[0]-data2[0]),2)\n",
        "    distY = pow(abs(data1[1]-data2[1]),2)\n",
        "    return math.sqrt(distX+distY)"
      ],
      "execution_count": null,
      "outputs": []
    },
    {
      "cell_type": "code",
      "metadata": {
        "id": "CqtV1YnwMZPU",
        "colab_type": "code",
        "colab": {
          "base_uri": "https://localhost:8080/",
          "height": 86
        },
        "outputId": "23eda73d-e582-4772-b713-d33e6bf5884a"
      },
      "source": [
        "dist_math1 = np.zeros((4,4))\n",
        "dist_math1"
      ],
      "execution_count": null,
      "outputs": [
        {
          "output_type": "execute_result",
          "data": {
            "text/plain": [
              "array([[0., 0., 0., 0.],\n",
              "       [0., 0., 0., 0.],\n",
              "       [0., 0., 0., 0.],\n",
              "       [0., 0., 0., 0.]])"
            ]
          },
          "metadata": {
            "tags": []
          },
          "execution_count": 15
        }
      ]
    },
    {
      "cell_type": "code",
      "metadata": {
        "id": "GZkcgjkYMpAh",
        "colab_type": "code",
        "colab": {
          "base_uri": "https://localhost:8080/",
          "height": 86
        },
        "outputId": "2ccf7259-6415-4ca4-d79b-3dbe7645b359"
      },
      "source": [
        "for i in range(4):\n",
        "    for j in range(4):\n",
        "        dist_math1[i,j] = Euclidean(np2[i,:],np2[j,:])\n",
        "dist_math1"
      ],
      "execution_count": null,
      "outputs": [
        {
          "output_type": "execute_result",
          "data": {
            "text/plain": [
              "array([[0.        , 3.60555128, 2.23606798, 4.24264069],\n",
              "       [3.60555128, 0.        , 5.09901951, 1.        ],\n",
              "       [2.23606798, 5.09901951, 0.        , 5.38516481],\n",
              "       [4.24264069, 1.        , 5.38516481, 0.        ]])"
            ]
          },
          "metadata": {
            "tags": []
          },
          "execution_count": 16
        }
      ]
    },
    {
      "cell_type": "markdown",
      "metadata": {
        "id": "JlKtvbg3shS0",
        "colab_type": "text"
      },
      "source": [
        "# Distance of nominal or categorical features"
      ]
    },
    {
      "cell_type": "markdown",
      "metadata": {
        "id": "lz7doKKgtyse",
        "colab_type": "text"
      },
      "source": [
        "### (extra) python data structure (Dictionary)"
      ]
    },
    {
      "cell_type": "code",
      "metadata": {
        "id": "fsiFN3OssPGl",
        "colab_type": "code",
        "colab": {}
      },
      "source": [
        "d_A = {'a':1,2:3,3:5,'cat':6} # สร้างDictionary"
      ],
      "execution_count": 2,
      "outputs": []
    },
    {
      "cell_type": "code",
      "metadata": {
        "id": "vIFg72wrsPDE",
        "colab_type": "code",
        "colab": {
          "base_uri": "https://localhost:8080/",
          "height": 34
        },
        "outputId": "89b37a1e-3f31-444c-9873-3baf83e7584c"
      },
      "source": [
        "d_A"
      ],
      "execution_count": 3,
      "outputs": [
        {
          "output_type": "execute_result",
          "data": {
            "text/plain": [
              "{2: 3, 3: 5, 'a': 1, 'cat': 6}"
            ]
          },
          "metadata": {
            "tags": []
          },
          "execution_count": 3
        }
      ]
    },
    {
      "cell_type": "code",
      "metadata": {
        "id": "BX6OoOlbsPAD",
        "colab_type": "code",
        "colab": {
          "base_uri": "https://localhost:8080/",
          "height": 34
        },
        "outputId": "3fbfeb4d-638c-4a39-f232-b7c4b128af23"
      },
      "source": [
        "d_A['cat']"
      ],
      "execution_count": 4,
      "outputs": [
        {
          "output_type": "execute_result",
          "data": {
            "text/plain": [
              "6"
            ]
          },
          "metadata": {
            "tags": []
          },
          "execution_count": 4
        }
      ]
    },
    {
      "cell_type": "code",
      "metadata": {
        "id": "iIjzYGplu4Pn",
        "colab_type": "code",
        "colab": {}
      },
      "source": [
        "d_A['dag'] = [1,2,3,4,5] #เพิ่มค่าเข้าไปใน dict"
      ],
      "execution_count": 5,
      "outputs": []
    },
    {
      "cell_type": "code",
      "metadata": {
        "id": "40gVBgNSu4Ma",
        "colab_type": "code",
        "colab": {
          "base_uri": "https://localhost:8080/",
          "height": 34
        },
        "outputId": "807e70d7-90fb-4766-84c2-98e2c52392f1"
      },
      "source": [
        "d_A"
      ],
      "execution_count": 6,
      "outputs": [
        {
          "output_type": "execute_result",
          "data": {
            "text/plain": [
              "{2: 3, 3: 5, 'a': 1, 'cat': 6, 'dag': [1, 2, 3, 4, 5]}"
            ]
          },
          "metadata": {
            "tags": []
          },
          "execution_count": 6
        }
      ]
    },
    {
      "cell_type": "code",
      "metadata": {
        "id": "9AnwfC3IvmKH",
        "colab_type": "code",
        "colab": {}
      },
      "source": [
        "del d_A['dag'] #ลบค่าใน Dict"
      ],
      "execution_count": 8,
      "outputs": []
    },
    {
      "cell_type": "code",
      "metadata": {
        "id": "yrYMmMfivmHQ",
        "colab_type": "code",
        "colab": {
          "base_uri": "https://localhost:8080/",
          "height": 34
        },
        "outputId": "fbe83dd9-f99b-4115-e214-efdee7d43282"
      },
      "source": [
        "d_A"
      ],
      "execution_count": 9,
      "outputs": [
        {
          "output_type": "execute_result",
          "data": {
            "text/plain": [
              "{2: 3, 3: 5, 'a': 1, 'cat': 6}"
            ]
          },
          "metadata": {
            "tags": []
          },
          "execution_count": 9
        }
      ]
    },
    {
      "cell_type": "code",
      "metadata": {
        "id": "SIrxhH8Uv5a_",
        "colab_type": "code",
        "colab": {}
      },
      "source": [
        "d_A['dog'] = [1,2,3,4,5]"
      ],
      "execution_count": 10,
      "outputs": []
    },
    {
      "cell_type": "code",
      "metadata": {
        "id": "OMFXo3H5v5Xt",
        "colab_type": "code",
        "colab": {
          "base_uri": "https://localhost:8080/",
          "height": 34
        },
        "outputId": "54c1a5db-3a27-43ea-e6b4-aefd5ea8f8d8"
      },
      "source": [
        "d_A"
      ],
      "execution_count": 11,
      "outputs": [
        {
          "output_type": "execute_result",
          "data": {
            "text/plain": [
              "{2: 3, 3: 5, 'a': 1, 'cat': 6, 'dog': [1, 2, 3, 4, 5]}"
            ]
          },
          "metadata": {
            "tags": []
          },
          "execution_count": 11
        }
      ]
    },
    {
      "cell_type": "code",
      "metadata": {
        "id": "F42l7TH6wDMx",
        "colab_type": "code",
        "colab": {}
      },
      "source": [
        "import pandas as pd"
      ],
      "execution_count": 13,
      "outputs": []
    },
    {
      "cell_type": "code",
      "metadata": {
        "id": "sZfUFqfIwDW9",
        "colab_type": "code",
        "colab": {
          "base_uri": "https://localhost:8080/",
          "height": 34
        },
        "outputId": "ea3c6c23-c47b-47d8-b633-1cf43f4894e1"
      },
      "source": [
        "data_dict = {'color':['red','red','green'], #มีค่าที่เป็นไปได้ color = 'rad', 'green', 'blue'\n",
        "             'status':['single','married','single']} #status = 'single','married','single'\n",
        "data_dict"
      ],
      "execution_count": 14,
      "outputs": [
        {
          "output_type": "execute_result",
          "data": {
            "text/plain": [
              "{'color': ['red', 'red', 'green'], 'status': ['single', 'married', 'single']}"
            ]
          },
          "metadata": {
            "tags": []
          },
          "execution_count": 14
        }
      ]
    },
    {
      "cell_type": "markdown",
      "metadata": {
        "id": "rWmBTK4VyLgQ",
        "colab_type": "text"
      },
      "source": [
        ""
      ]
    },
    {
      "cell_type": "code",
      "metadata": {
        "id": "5Pwvb63gwwTc",
        "colab_type": "code",
        "colab": {
          "base_uri": "https://localhost:8080/",
          "height": 141
        },
        "outputId": "883017df-c6f1-4d2c-cdb0-783421fa467c"
      },
      "source": [
        "data_pd = pd.DataFrame.from_dict(data_dict) # สร้้างตารางด้วยคำสั่ง DataFrame\n",
        "data_pd"
      ],
      "execution_count": 15,
      "outputs": [
        {
          "output_type": "execute_result",
          "data": {
            "text/html": [
              "<div>\n",
              "<style scoped>\n",
              "    .dataframe tbody tr th:only-of-type {\n",
              "        vertical-align: middle;\n",
              "    }\n",
              "\n",
              "    .dataframe tbody tr th {\n",
              "        vertical-align: top;\n",
              "    }\n",
              "\n",
              "    .dataframe thead th {\n",
              "        text-align: right;\n",
              "    }\n",
              "</style>\n",
              "<table border=\"1\" class=\"dataframe\">\n",
              "  <thead>\n",
              "    <tr style=\"text-align: right;\">\n",
              "      <th></th>\n",
              "      <th>color</th>\n",
              "      <th>status</th>\n",
              "    </tr>\n",
              "  </thead>\n",
              "  <tbody>\n",
              "    <tr>\n",
              "      <th>0</th>\n",
              "      <td>red</td>\n",
              "      <td>single</td>\n",
              "    </tr>\n",
              "    <tr>\n",
              "      <th>1</th>\n",
              "      <td>red</td>\n",
              "      <td>married</td>\n",
              "    </tr>\n",
              "    <tr>\n",
              "      <th>2</th>\n",
              "      <td>green</td>\n",
              "      <td>single</td>\n",
              "    </tr>\n",
              "  </tbody>\n",
              "</table>\n",
              "</div>"
            ],
            "text/plain": [
              "   color   status\n",
              "0    red   single\n",
              "1    red  married\n",
              "2  green   single"
            ]
          },
          "metadata": {
            "tags": []
          },
          "execution_count": 15
        }
      ]
    },
    {
      "cell_type": "markdown",
      "metadata": {
        "id": "3VnK3NGnyjQ8",
        "colab_type": "text"
      },
      "source": [
        "# Categorical features distance method#1"
      ]
    },
    {
      "cell_type": "code",
      "metadata": {
        "id": "H_05Sd46wwMf",
        "colab_type": "code",
        "colab": {
          "base_uri": "https://localhost:8080/",
          "height": 34
        },
        "outputId": "7b1196ad-1813-4f2e-a9ea-25430b97af98"
      },
      "source": [
        "list(data_pd.iloc[0,:])"
      ],
      "execution_count": 20,
      "outputs": [
        {
          "output_type": "execute_result",
          "data": {
            "text/plain": [
              "['red', 'single']"
            ]
          },
          "metadata": {
            "tags": []
          },
          "execution_count": 20
        }
      ]
    },
    {
      "cell_type": "code",
      "metadata": {
        "id": "6vIV4KPEzQV0",
        "colab_type": "code",
        "colab": {}
      },
      "source": [
        "def meth1_dist(data1,data2):\n",
        "    N = 0     #จำนวนของ unmath ตัวที่ไม่ตรงกัน\n",
        "    print(f'data1 is {data1} and data2 is {data2}')\n",
        "    for i in range(len(data1)):\n",
        "        print(f'feature{i} of data1 is {data1[1]} , feature{i} of data1 is {data2[1]} ')\n",
        "        if data1[i] != data2[i]: \n",
        "          N = N+1\n",
        "          print(f'  {data1[i]} is not equal {data2[i]} : update ({N})')\n",
        "        else:\n",
        "           print(f'  {data1[i]} is equal {data2[i]}')\n",
        "    return N/len(data1)"
      ],
      "execution_count": 27,
      "outputs": []
    },
    {
      "cell_type": "code",
      "metadata": {
        "id": "SVyMyUx1zQPY",
        "colab_type": "code",
        "colab": {
          "base_uri": "https://localhost:8080/",
          "height": 122
        },
        "outputId": "8cd0582e-5d21-4845-a6eb-b05a6b6c6e91"
      },
      "source": [
        "meth1_dist(list(data_pd.iloc[0,:]),list(data_pd.iloc[1,:]))"
      ],
      "execution_count": 28,
      "outputs": [
        {
          "output_type": "stream",
          "text": [
            "data1 is ['red', 'single'] and data2 is ['red', 'married']\n",
            "feature0 of data1 is single , feature0 of data1 is married \n",
            "  red is equal red\n",
            "feature1 of data1 is single , feature1 of data1 is married \n",
            "  single is not equal married : update (1)\n"
          ],
          "name": "stdout"
        },
        {
          "output_type": "execute_result",
          "data": {
            "text/plain": [
              "0.5"
            ]
          },
          "metadata": {
            "tags": []
          },
          "execution_count": 28
        }
      ]
    },
    {
      "cell_type": "markdown",
      "metadata": {
        "id": "Vd0ToMWH2lQg",
        "colab_type": "text"
      },
      "source": [
        "## HW7 Calculate distance matrix of data_pd using \n",
        "\n"
      ]
    },
    {
      "cell_type": "code",
      "metadata": {
        "id": "avJJXOXR3zpF",
        "colab_type": "code",
        "colab": {}
      },
      "source": [
        ""
      ],
      "execution_count": null,
      "outputs": []
    },
    {
      "cell_type": "markdown",
      "metadata": {
        "id": "Knbp2FmJ3BlB",
        "colab_type": "text"
      },
      "source": [
        "# Categorical features distance method#2"
      ]
    },
    {
      "cell_type": "code",
      "metadata": {
        "id": "NrNTeg3PzQMz",
        "colab_type": "code",
        "colab": {
          "base_uri": "https://localhost:8080/",
          "height": 141
        },
        "outputId": "a83cce8f-e7ca-4e05-a824-aa02321a24ad"
      },
      "source": [
        "pd.get_dummies(data_pd)"
      ],
      "execution_count": 30,
      "outputs": [
        {
          "output_type": "execute_result",
          "data": {
            "text/html": [
              "<div>\n",
              "<style scoped>\n",
              "    .dataframe tbody tr th:only-of-type {\n",
              "        vertical-align: middle;\n",
              "    }\n",
              "\n",
              "    .dataframe tbody tr th {\n",
              "        vertical-align: top;\n",
              "    }\n",
              "\n",
              "    .dataframe thead th {\n",
              "        text-align: right;\n",
              "    }\n",
              "</style>\n",
              "<table border=\"1\" class=\"dataframe\">\n",
              "  <thead>\n",
              "    <tr style=\"text-align: right;\">\n",
              "      <th></th>\n",
              "      <th>color_green</th>\n",
              "      <th>color_red</th>\n",
              "      <th>status_married</th>\n",
              "      <th>status_single</th>\n",
              "    </tr>\n",
              "  </thead>\n",
              "  <tbody>\n",
              "    <tr>\n",
              "      <th>0</th>\n",
              "      <td>0</td>\n",
              "      <td>1</td>\n",
              "      <td>0</td>\n",
              "      <td>1</td>\n",
              "    </tr>\n",
              "    <tr>\n",
              "      <th>1</th>\n",
              "      <td>0</td>\n",
              "      <td>1</td>\n",
              "      <td>1</td>\n",
              "      <td>0</td>\n",
              "    </tr>\n",
              "    <tr>\n",
              "      <th>2</th>\n",
              "      <td>1</td>\n",
              "      <td>0</td>\n",
              "      <td>0</td>\n",
              "      <td>1</td>\n",
              "    </tr>\n",
              "  </tbody>\n",
              "</table>\n",
              "</div>"
            ],
            "text/plain": [
              "   color_green  color_red  status_married  status_single\n",
              "0            0          1               0              1\n",
              "1            0          1               1              0\n",
              "2            1          0               0              1"
            ]
          },
          "metadata": {
            "tags": []
          },
          "execution_count": 30
        }
      ]
    },
    {
      "cell_type": "code",
      "metadata": {
        "id": "x89G8bj96kDd",
        "colab_type": "code",
        "colab": {}
      },
      "source": [
        "data_pd_binary = pd.get_dummies(data_pd) # เพิ่มตัวแปรมารับค่าตาราง"
      ],
      "execution_count": 33,
      "outputs": []
    },
    {
      "cell_type": "code",
      "metadata": {
        "id": "uwfb3Hgg3I1b",
        "colab_type": "code",
        "colab": {}
      },
      "source": [
        "def binary_sym_dist(data1,data2): #สร้างฟังก์ชัน\n",
        "    q = 0 \n",
        "    rs = 0\n",
        "    t = 0\n",
        "    for i in range(len(data1)):\n",
        "      if data1[i] == data2[i]: \n",
        "          if data1[i] == 1:\n",
        "            q = q + 1\n",
        "          else:\n",
        "            t = t + 1\n",
        "      if data1[i] != data2[i]:\n",
        "          rs = rs + 1\n",
        "    return (rs)/(q+rs+t)"
      ],
      "execution_count": 39,
      "outputs": []
    },
    {
      "cell_type": "code",
      "metadata": {
        "id": "dQFt3IKx4l9_",
        "colab_type": "code",
        "colab": {
          "base_uri": "https://localhost:8080/",
          "height": 34
        },
        "outputId": "b9cc56d4-5da7-47f4-bdc5-6a97941b3a36"
      },
      "source": [
        "binary_sym_dist(list(data_pd_binary.iloc[0,:]),list(data_pd_binary.iloc[1,:]))"
      ],
      "execution_count": 40,
      "outputs": [
        {
          "output_type": "execute_result",
          "data": {
            "text/plain": [
              "0.5"
            ]
          },
          "metadata": {
            "tags": []
          },
          "execution_count": 40
        }
      ]
    },
    {
      "cell_type": "markdown",
      "metadata": {
        "id": "XXk8_iLX7_-T",
        "colab_type": "text"
      },
      "source": [
        "# HW8 Calculate distance matrix of data_pd_binary using : binary_sym_dist()"
      ]
    },
    {
      "cell_type": "code",
      "metadata": {
        "id": "k1LukDb-4l7K",
        "colab_type": "code",
        "colab": {}
      },
      "source": [
        ""
      ],
      "execution_count": null,
      "outputs": []
    }
  ]
}